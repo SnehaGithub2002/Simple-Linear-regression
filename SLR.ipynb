{
 "cells": [
  {
   "cell_type": "markdown",
   "id": "796a2b12",
   "metadata": {},
   "source": [
    "# simple Linear regression"
   ]
  },
  {
   "cell_type": "markdown",
   "id": "1215ce3e",
   "metadata": {},
   "source": [
    "## import the libararies"
   ]
  },
  {
   "cell_type": "code",
   "execution_count": 275,
   "id": "49f5f757",
   "metadata": {},
   "outputs": [],
   "source": [
    "import pandas as pd \n",
    "import numpy as np\n",
    "from sklearn import linear_model #machine learning\n",
    "import matplotlib.pyplot as plt"
   ]
  },
  {
   "cell_type": "markdown",
   "id": "7c73d8c6",
   "metadata": {},
   "source": [
    "### ignore warnings"
   ]
  },
  {
   "cell_type": "code",
   "execution_count": 276,
   "id": "40dfb459",
   "metadata": {},
   "outputs": [],
   "source": [
    "import warnings \n",
    "warnings.filterwarnings('ignore')"
   ]
  },
  {
   "cell_type": "markdown",
   "id": "c9706e6b",
   "metadata": {},
   "source": [
    "# 1.PROBLEM STATEMENT\n",
    "Salary_hike -> Build a prediction model for Salary_hike \n",
    "### read the csv file of SALARY"
   ]
  },
  {
   "cell_type": "code",
   "execution_count": 277,
   "id": "35ece238",
   "metadata": {},
   "outputs": [],
   "source": [
    "df=pd.read_csv(\"Salary_data.csv\")"
   ]
  },
  {
   "cell_type": "markdown",
   "id": "d3c26991",
   "metadata": {},
   "source": [
    "## EDA and Data Visualization"
   ]
  },
  {
   "cell_type": "markdown",
   "id": "0ceaab50",
   "metadata": {},
   "source": [
    "### to see first five row in data"
   ]
  },
  {
   "cell_type": "code",
   "execution_count": 278,
   "id": "a4ccb621",
   "metadata": {},
   "outputs": [
    {
     "data": {
      "text/html": [
       "<div>\n",
       "<style scoped>\n",
       "    .dataframe tbody tr th:only-of-type {\n",
       "        vertical-align: middle;\n",
       "    }\n",
       "\n",
       "    .dataframe tbody tr th {\n",
       "        vertical-align: top;\n",
       "    }\n",
       "\n",
       "    .dataframe thead th {\n",
       "        text-align: right;\n",
       "    }\n",
       "</style>\n",
       "<table border=\"1\" class=\"dataframe\">\n",
       "  <thead>\n",
       "    <tr style=\"text-align: right;\">\n",
       "      <th></th>\n",
       "      <th>YearsExperience</th>\n",
       "      <th>Salary</th>\n",
       "    </tr>\n",
       "  </thead>\n",
       "  <tbody>\n",
       "    <tr>\n",
       "      <th>0</th>\n",
       "      <td>1.1</td>\n",
       "      <td>39343.0</td>\n",
       "    </tr>\n",
       "    <tr>\n",
       "      <th>1</th>\n",
       "      <td>1.3</td>\n",
       "      <td>46205.0</td>\n",
       "    </tr>\n",
       "    <tr>\n",
       "      <th>2</th>\n",
       "      <td>1.5</td>\n",
       "      <td>37731.0</td>\n",
       "    </tr>\n",
       "    <tr>\n",
       "      <th>3</th>\n",
       "      <td>2.0</td>\n",
       "      <td>43525.0</td>\n",
       "    </tr>\n",
       "    <tr>\n",
       "      <th>4</th>\n",
       "      <td>2.2</td>\n",
       "      <td>39891.0</td>\n",
       "    </tr>\n",
       "  </tbody>\n",
       "</table>\n",
       "</div>"
      ],
      "text/plain": [
       "   YearsExperience   Salary\n",
       "0              1.1  39343.0\n",
       "1              1.3  46205.0\n",
       "2              1.5  37731.0\n",
       "3              2.0  43525.0\n",
       "4              2.2  39891.0"
      ]
     },
     "execution_count": 278,
     "metadata": {},
     "output_type": "execute_result"
    }
   ],
   "source": [
    "df.head()"
   ]
  },
  {
   "cell_type": "markdown",
   "id": "aa236cca",
   "metadata": {},
   "source": [
    "### count the number of rows and number of column"
   ]
  },
  {
   "cell_type": "code",
   "execution_count": 279,
   "id": "4e830519",
   "metadata": {},
   "outputs": [
    {
     "data": {
      "text/plain": [
       "(30, 2)"
      ]
     },
     "execution_count": 279,
     "metadata": {},
     "output_type": "execute_result"
    }
   ],
   "source": [
    "df.shape"
   ]
  },
  {
   "cell_type": "markdown",
   "id": "d2f1cdc1",
   "metadata": {},
   "source": [
    "### to see is there any null value in our data"
   ]
  },
  {
   "cell_type": "code",
   "execution_count": 280,
   "id": "9c2337f2",
   "metadata": {},
   "outputs": [
    {
     "data": {
      "text/plain": [
       "YearsExperience    0\n",
       "Salary             0\n",
       "dtype: int64"
      ]
     },
     "execution_count": 280,
     "metadata": {},
     "output_type": "execute_result"
    }
   ],
   "source": [
    "df.isnull().sum()"
   ]
  },
  {
   "cell_type": "markdown",
   "id": "a0cc826b",
   "metadata": {},
   "source": [
    "### to find the no.of the duplicated value in row "
   ]
  },
  {
   "cell_type": "code",
   "execution_count": 281,
   "id": "731291da",
   "metadata": {},
   "outputs": [
    {
     "data": {
      "text/plain": [
       "Series([], dtype: int64)"
      ]
     },
     "execution_count": 281,
     "metadata": {},
     "output_type": "execute_result"
    }
   ],
   "source": [
    "df[df.duplicated()].value_counts() # there is no any duplicated row"
   ]
  },
  {
   "cell_type": "code",
   "execution_count": 291,
   "id": "7c4ad575",
   "metadata": {},
   "outputs": [
    {
     "data": {
      "image/png": "[encoded data removed]",
      "text/plain": [
       "<Figure size 500x500 with 1 Axes>"
      ]
     },
     "metadata": {},
     "output_type": "display_data"
    }
   ],
   "source": [
    "import seaborn as sns\n",
    "sns.displot(df['YearsExperience'],kde=True)\n",
    "plt.show()"
   ]
  },
  {
   "cell_type": "markdown",
   "id": "4168732b",
   "metadata": {},
   "source": [
    " "
   ]
  },
  {
   "cell_type": "code",
   "execution_count": 289,
   "id": "0bb2e01c",
   "metadata": {},
   "outputs": [
    {
     "data": {
      "image/png": "[encoded data removed]",
      "text/plain": [
       "<Figure size 500x500 with 1 Axes>"
      ]
     },
     "metadata": {},
     "output_type": "display_data"
    }
   ],
   "source": [
    "\n",
    "sns.displot(df['Salary'],kde=True)\n",
    "plt.show()"
   ]
  },
  {
   "cell_type": "markdown",
   "id": "4889f8ef",
   "metadata": {},
   "source": [
    "### scatterplot salary v/s experience"
   ]
  },
  {
   "cell_type": "code",
   "execution_count": 288,
   "id": "eecced40",
   "metadata": {},
   "outputs": [
    {
     "data": {
      "image/png": "[encoded data removed]",
      "text/plain": [
       "<Figure size 640x480 with 1 Axes>"
      ]
     },
     "metadata": {},
     "output_type": "display_data"
    }
   ],
   "source": [
    "plt.xlabel('year of experience')\n",
    "plt.ylabel('Salary')\n",
    "plt.scatter(x=df[\"YearsExperience\"],y=df.Salary,color='red',marker=\"+\")\n",
    "plt.show()"
   ]
  },
  {
   "cell_type": "markdown",
   "id": "af867df9",
   "metadata": {},
   "source": [
    "### Correlation Analysis"
   ]
  },
  {
   "cell_type": "code",
   "execution_count": 285,
   "id": "76f54065",
   "metadata": {},
   "outputs": [
    {
     "data": {
      "text/html": [
       "<div>\n",
       "<style scoped>\n",
       "    .dataframe tbody tr th:only-of-type {\n",
       "        vertical-align: middle;\n",
       "    }\n",
       "\n",
       "    .dataframe tbody tr th {\n",
       "        vertical-align: top;\n",
       "    }\n",
       "\n",
       "    .dataframe thead th {\n",
       "        text-align: right;\n",
       "    }\n",
       "</style>\n",
       "<table border=\"1\" class=\"dataframe\">\n",
       "  <thead>\n",
       "    <tr style=\"text-align: right;\">\n",
       "      <th></th>\n",
       "      <th>YearsExperience</th>\n",
       "      <th>Salary</th>\n",
       "    </tr>\n",
       "  </thead>\n",
       "  <tbody>\n",
       "    <tr>\n",
       "      <th>YearsExperience</th>\n",
       "      <td>1.000000</td>\n",
       "      <td>0.978242</td>\n",
       "    </tr>\n",
       "    <tr>\n",
       "      <th>Salary</th>\n",
       "      <td>0.978242</td>\n",
       "      <td>1.000000</td>\n",
       "    </tr>\n",
       "  </tbody>\n",
       "</table>\n",
       "</div>"
      ],
      "text/plain": [
       "                 YearsExperience    Salary\n",
       "YearsExperience         1.000000  0.978242\n",
       "Salary                  0.978242  1.000000"
      ]
     },
     "execution_count": 285,
     "metadata": {},
     "output_type": "execute_result"
    }
   ],
   "source": [
    "df.corr()"
   ]
  },
  {
   "cell_type": "code",
   "execution_count": 290,
   "id": "5e8f2215",
   "metadata": {},
   "outputs": [
    {
     "data": {
      "image/png": "[encoded data removed]",
      "text/plain": [
       "<Figure size 640x480 with 1 Axes>"
      ]
     },
     "metadata": {},
     "output_type": "display_data"
    }
   ],
   "source": [
    "\n",
    "df.Salary.plot(kind=\"box\")\n",
    "plt.show()"
   ]
  },
  {
   "cell_type": "markdown",
   "id": "958f9558",
   "metadata": {},
   "source": []
  },
  {
   "cell_type": "markdown",
   "id": "c30dfb60",
   "metadata": {},
   "source": [
    "# # to see the best fit line"
   ]
  },
  {
   "cell_type": "code",
   "execution_count": 292,
   "id": "90652f7e",
   "metadata": {},
   "outputs": [
    {
     "data": {
      "image/png": "[encoded data removed]",
      "text/plain": [
       "<Figure size 640x480 with 1 Axes>"
      ]
     },
     "metadata": {},
     "output_type": "display_data"
    }
   ],
   "source": [
    "import seaborn as sns\n",
    "sns.regplot(df[\"YearsExperience\"],df[\"Salary\"],data=df)\n",
    "plt.show()"
   ]
  },
  {
   "cell_type": "markdown",
   "id": "2ca7122a",
   "metadata": {},
   "source": [
    "# First Model Building"
   ]
  },
  {
   "cell_type": "markdown",
   "id": "0bbd1778",
   "metadata": {},
   "source": [
    "### separating the variables"
   ]
  },
  {
   "cell_type": "code",
   "execution_count": 293,
   "id": "add2aedc",
   "metadata": {},
   "outputs": [
    {
     "data": {
      "text/html": [
       "<div>\n",
       "<style scoped>\n",
       "    .dataframe tbody tr th:only-of-type {\n",
       "        vertical-align: middle;\n",
       "    }\n",
       "\n",
       "    .dataframe tbody tr th {\n",
       "        vertical-align: top;\n",
       "    }\n",
       "\n",
       "    .dataframe thead th {\n",
       "        text-align: right;\n",
       "    }\n",
       "</style>\n",
       "<table border=\"1\" class=\"dataframe\">\n",
       "  <thead>\n",
       "    <tr style=\"text-align: right;\">\n",
       "      <th></th>\n",
       "      <th>YearsExperience</th>\n",
       "    </tr>\n",
       "  </thead>\n",
       "  <tbody>\n",
       "    <tr>\n",
       "      <th>0</th>\n",
       "      <td>1.1</td>\n",
       "    </tr>\n",
       "    <tr>\n",
       "      <th>1</th>\n",
       "      <td>1.3</td>\n",
       "    </tr>\n",
       "    <tr>\n",
       "      <th>2</th>\n",
       "      <td>1.5</td>\n",
       "    </tr>\n",
       "    <tr>\n",
       "      <th>3</th>\n",
       "      <td>2.0</td>\n",
       "    </tr>\n",
       "    <tr>\n",
       "      <th>4</th>\n",
       "      <td>2.2</td>\n",
       "    </tr>\n",
       "  </tbody>\n",
       "</table>\n",
       "</div>"
      ],
      "text/plain": [
       "   YearsExperience\n",
       "0              1.1\n",
       "1              1.3\n",
       "2              1.5\n",
       "3              2.0\n",
       "4              2.2"
      ]
     },
     "execution_count": 293,
     "metadata": {},
     "output_type": "execute_result"
    }
   ],
   "source": [
    "x=df[[\"YearsExperience\"]]\n",
    "x.head()"
   ]
  },
  {
   "cell_type": "code",
   "execution_count": 294,
   "id": "55c74d85",
   "metadata": {},
   "outputs": [
    {
     "data": {
      "text/plain": [
       "0    39343.0\n",
       "1    46205.0\n",
       "2    37731.0\n",
       "3    43525.0\n",
       "4    39891.0\n",
       "Name: Salary, dtype: float64"
      ]
     },
     "execution_count": 294,
     "metadata": {},
     "output_type": "execute_result"
    }
   ],
   "source": [
    "y=df[\"Salary\"]\n",
    "y.head()"
   ]
  },
  {
   "cell_type": "markdown",
   "id": "df5836f0",
   "metadata": {},
   "source": [
    "### fit the model"
   ]
  },
  {
   "cell_type": "code",
   "execution_count": 295,
   "id": "54ab19bd",
   "metadata": {
    "scrolled": true
   },
   "outputs": [
    {
     "data": {
      "text/plain": [
       "LinearRegression()"
      ]
     },
     "execution_count": 295,
     "metadata": {},
     "output_type": "execute_result"
    }
   ],
   "source": [
    "reg=linear_model.LinearRegression()\n",
    "reg.fit(x,y)"
   ]
  },
  {
   "cell_type": "markdown",
   "id": "c0f3b455",
   "metadata": {},
   "source": [
    "### to see the model prediction"
   ]
  },
  {
   "cell_type": "code",
   "execution_count": 296,
   "id": "a9bd1a6d",
   "metadata": {},
   "outputs": [],
   "source": [
    "y_pred=reg.predict(x)"
   ]
  },
  {
   "cell_type": "code",
   "execution_count": 297,
   "id": "4b583dc1",
   "metadata": {},
   "outputs": [
    {
     "data": {
      "text/plain": [
       "array([ 36187.15875227,  38077.15121656,  39967.14368085,  44692.12484158,\n",
       "        46582.11730587,  53197.09093089,  54142.08716303,  56032.07962732,\n",
       "        56032.07962732,  60757.06078805,  62647.05325234,  63592.04948449,\n",
       "        63592.04948449,  64537.04571663,  68317.03064522,  72097.0155738 ,\n",
       "        73987.00803809,  75877.00050238,  81546.97789525,  82491.9741274 ,\n",
       "        90051.94398456,  92886.932681  , 100446.90253816, 103281.8912346 ,\n",
       "       108006.87239533, 110841.86109176, 115566.84225249, 116511.83848464,\n",
       "       123126.81210966, 125016.80457395])"
      ]
     },
     "execution_count": 297,
     "metadata": {},
     "output_type": "execute_result"
    }
   ],
   "source": [
    "y_pred"
   ]
  },
  {
   "cell_type": "code",
   "execution_count": null,
   "id": "2f5ed230",
   "metadata": {},
   "outputs": [],
   "source": []
  },
  {
   "cell_type": "markdown",
   "id": "81cc69ef",
   "metadata": {},
   "source": [
    "### draw the linear line \n",
    "### red stars data points are the predicted values\n",
    "### orange balls data points are the actual points"
   ]
  },
  {
   "cell_type": "code",
   "execution_count": 300,
   "id": "373fb1c5",
   "metadata": {},
   "outputs": [
    {
     "data": {
      "image/png": "[encoded data removed]",
      "text/plain": [
       "<Figure size 640x480 with 1 Axes>"
      ]
     },
     "metadata": {},
     "output_type": "display_data"
    }
   ],
   "source": [
    "\n",
    "plt.scatter(x=df[\"YearsExperience\"],y=df.Salary,color='orange') \n",
    "plt.scatter(x=df[\"YearsExperience\"],y=y_pred,color='red',marker=\"*\") \n",
    "plt.plot(df[\"YearsExperience\"],y_pred,color='black')\n",
    "plt.show()\n"
   ]
  },
  {
   "cell_type": "markdown",
   "id": "d7dd9c1e",
   "metadata": {},
   "source": [
    "\n"
   ]
  },
  {
   "cell_type": "code",
   "execution_count": 301,
   "id": "e360b74c",
   "metadata": {},
   "outputs": [
    {
     "data": {
      "text/plain": [
       "array([58867.06832376])"
      ]
     },
     "execution_count": 301,
     "metadata": {},
     "output_type": "execute_result"
    }
   ],
   "source": [
    "reg.predict([[3.5]])"
   ]
  },
  {
   "cell_type": "markdown",
   "id": "7e3ed569",
   "metadata": {},
   "source": [
    "# for model performance"
   ]
  },
  {
   "cell_type": "code",
   "execution_count": 302,
   "id": "b92276ff",
   "metadata": {},
   "outputs": [],
   "source": [
    "from sklearn.metrics import mean_squared_error,r2_score"
   ]
  },
  {
   "cell_type": "markdown",
   "id": "ab106c6f",
   "metadata": {},
   "source": [
    "### mean square error"
   ]
  },
  {
   "cell_type": "code",
   "execution_count": 303,
   "id": "2646289c",
   "metadata": {},
   "outputs": [],
   "source": [
    "y=df.Salary\n",
    "MSE=mean_squared_error(y,y_pred)"
   ]
  },
  {
   "cell_type": "code",
   "execution_count": 304,
   "id": "0ab1d7ef",
   "metadata": {},
   "outputs": [
    {
     "data": {
      "text/plain": [
       "31270951.722280968"
      ]
     },
     "execution_count": 304,
     "metadata": {},
     "output_type": "execute_result"
    }
   ],
   "source": [
    "MSE"
   ]
  },
  {
   "cell_type": "markdown",
   "id": "d46a9e02",
   "metadata": {},
   "source": [
    "### root mean square error"
   ]
  },
  {
   "cell_type": "code",
   "execution_count": 305,
   "id": "0e107190",
   "metadata": {},
   "outputs": [],
   "source": [
    "Root_mse=np.sqrt(MSE)"
   ]
  },
  {
   "cell_type": "code",
   "execution_count": 306,
   "id": "29e613d0",
   "metadata": {},
   "outputs": [
    {
     "data": {
      "text/plain": [
       "5592.043608760662"
      ]
     },
     "execution_count": 306,
     "metadata": {},
     "output_type": "execute_result"
    }
   ],
   "source": [
    "Root_mse"
   ]
  },
  {
   "cell_type": "markdown",
   "id": "1eca60ec",
   "metadata": {},
   "source": [
    "### R2 score"
   ]
  },
  {
   "cell_type": "code",
   "execution_count": 307,
   "id": "aef33e0b",
   "metadata": {},
   "outputs": [
    {
     "data": {
      "text/plain": [
       "0.9569566641435086"
      ]
     },
     "execution_count": 307,
     "metadata": {},
     "output_type": "execute_result"
    }
   ],
   "source": [
    "r2_score(y,y_pred)"
   ]
  },
  {
   "cell_type": "markdown",
   "id": "5010fdbe",
   "metadata": {},
   "source": [
    "# Second Model (log transformation)"
   ]
  },
  {
   "cell_type": "code",
   "execution_count": 308,
   "id": "485acdcd",
   "metadata": {},
   "outputs": [
    {
     "data": {
      "image/png": "[encoded data removed]",
      "text/plain": [
       "<Figure size 640x480 with 2 Axes>"
      ]
     },
     "metadata": {},
     "output_type": "display_data"
    }
   ],
   "source": [
    "df_log=np.log(df)\n",
    "#define grid of plots\n",
    "fig,axs=plt.subplots(nrows=1,ncols=2)\n",
    "\n",
    "#creat histogram\n",
    "axs[0].hist(df,edgecolor='black')\n",
    "axs[1].hist(df_log,edgecolor='black')\n",
    "\n",
    "#add title\n",
    "axs[0].set_title('original data')\n",
    "axs[1].set_title('log transformation data')\n",
    "plt.show()"
   ]
  },
  {
   "cell_type": "code",
   "execution_count": 309,
   "id": "84039100",
   "metadata": {},
   "outputs": [
    {
     "data": {
      "text/html": [
       "<div>\n",
       "<style scoped>\n",
       "    .dataframe tbody tr th:only-of-type {\n",
       "        vertical-align: middle;\n",
       "    }\n",
       "\n",
       "    .dataframe tbody tr th {\n",
       "        vertical-align: top;\n",
       "    }\n",
       "\n",
       "    .dataframe thead th {\n",
       "        text-align: right;\n",
       "    }\n",
       "</style>\n",
       "<table border=\"1\" class=\"dataframe\">\n",
       "  <thead>\n",
       "    <tr style=\"text-align: right;\">\n",
       "      <th></th>\n",
       "      <th>YearsExperience</th>\n",
       "      <th>Salary</th>\n",
       "    </tr>\n",
       "  </thead>\n",
       "  <tbody>\n",
       "    <tr>\n",
       "      <th>0</th>\n",
       "      <td>0.095310</td>\n",
       "      <td>10.580073</td>\n",
       "    </tr>\n",
       "    <tr>\n",
       "      <th>1</th>\n",
       "      <td>0.262364</td>\n",
       "      <td>10.740843</td>\n",
       "    </tr>\n",
       "    <tr>\n",
       "      <th>2</th>\n",
       "      <td>0.405465</td>\n",
       "      <td>10.538237</td>\n",
       "    </tr>\n",
       "    <tr>\n",
       "      <th>3</th>\n",
       "      <td>0.693147</td>\n",
       "      <td>10.681091</td>\n",
       "    </tr>\n",
       "    <tr>\n",
       "      <th>4</th>\n",
       "      <td>0.788457</td>\n",
       "      <td>10.593906</td>\n",
       "    </tr>\n",
       "  </tbody>\n",
       "</table>\n",
       "</div>"
      ],
      "text/plain": [
       "   YearsExperience     Salary\n",
       "0         0.095310  10.580073\n",
       "1         0.262364  10.740843\n",
       "2         0.405465  10.538237\n",
       "3         0.693147  10.681091\n",
       "4         0.788457  10.593906"
      ]
     },
     "execution_count": 309,
     "metadata": {},
     "output_type": "execute_result"
    }
   ],
   "source": [
    "df_log.head()"
   ]
  },
  {
   "cell_type": "markdown",
   "id": "84204455",
   "metadata": {},
   "source": [
    "### Separating the variables"
   ]
  },
  {
   "cell_type": "code",
   "execution_count": 310,
   "id": "0f51f086",
   "metadata": {},
   "outputs": [],
   "source": [
    "x=df_log[[\"YearsExperience\"]]"
   ]
  },
  {
   "cell_type": "code",
   "execution_count": 311,
   "id": "d78a0a6b",
   "metadata": {},
   "outputs": [],
   "source": [
    "y=df_log[\"Salary\"]"
   ]
  },
  {
   "cell_type": "markdown",
   "id": "31ab84bc",
   "metadata": {},
   "source": [
    "## Fit the Model"
   ]
  },
  {
   "cell_type": "code",
   "execution_count": 312,
   "id": "75d6fdc7",
   "metadata": {},
   "outputs": [
    {
     "data": {
      "text/plain": [
       "LinearRegression()"
      ]
     },
     "execution_count": 312,
     "metadata": {},
     "output_type": "execute_result"
    }
   ],
   "source": [
    "reg=linear_model.LinearRegression()\n",
    "reg.fit(x,y)"
   ]
  },
  {
   "cell_type": "markdown",
   "id": "35d70525",
   "metadata": {},
   "source": [
    "### Predicted value"
   ]
  },
  {
   "cell_type": "code",
   "execution_count": 313,
   "id": "88a1a89b",
   "metadata": {},
   "outputs": [
    {
     "data": {
      "text/plain": [
       "array([10.38161597, 10.47551521, 10.55595059, 10.71765347, 10.77122626,\n",
       "       10.9265052 , 10.94556088, 10.98183726, 10.98183726, 11.06344245,\n",
       "       11.09303291, 11.10726376, 11.10726376, 11.1211432 , 11.17346829,\n",
       "       11.22133455, 11.2438211 , 11.26544256, 11.32572408, 11.33517117,\n",
       "       11.40552398, 11.42979057, 11.48980366, 11.51075349, 11.5440229 ,\n",
       "       11.56307858, 11.59346916, 11.59935496, 11.63891522, 11.64972496])"
      ]
     },
     "execution_count": 313,
     "metadata": {},
     "output_type": "execute_result"
    }
   ],
   "source": [
    "y_pred=reg.predict(x)\n",
    "y_pred"
   ]
  },
  {
   "cell_type": "markdown",
   "id": "81413d62",
   "metadata": {},
   "source": [
    "# for model performance"
   ]
  },
  {
   "cell_type": "code",
   "execution_count": 216,
   "id": "fe9b1554",
   "metadata": {},
   "outputs": [],
   "source": [
    "from sklearn.metrics import mean_squared_error,r2_score"
   ]
  },
  {
   "cell_type": "markdown",
   "id": "51201801",
   "metadata": {},
   "source": [
    "### Root mean square error"
   ]
  },
  {
   "cell_type": "code",
   "execution_count": 314,
   "id": "2c912f9e",
   "metadata": {},
   "outputs": [
    {
     "data": {
      "text/plain": [
       "0.11163070330504787"
      ]
     },
     "execution_count": 314,
     "metadata": {},
     "output_type": "execute_result"
    }
   ],
   "source": [
    "\n",
    "MSE=mean_squared_error(y,y_pred)\n",
    "MSE\n",
    "Root_mse=np.sqrt(MSE)\n",
    "Root_mse"
   ]
  },
  {
   "cell_type": "markdown",
   "id": "6370618a",
   "metadata": {},
   "source": [
    "## R2 score"
   ]
  },
  {
   "cell_type": "code",
   "execution_count": 315,
   "id": "eba8b76e",
   "metadata": {},
   "outputs": [
    {
     "data": {
      "text/plain": [
       "0.9052150725817151"
      ]
     },
     "execution_count": 315,
     "metadata": {},
     "output_type": "execute_result"
    }
   ],
   "source": [
    "r2_score(y,y_pred)"
   ]
  },
  {
   "cell_type": "markdown",
   "id": "f8ed4a2d",
   "metadata": {},
   "source": [
    "# Third Model (Squareroot transformation)"
   ]
  },
  {
   "cell_type": "code",
   "execution_count": 316,
   "id": "daccff84",
   "metadata": {},
   "outputs": [
    {
     "data": {
      "image/png": "[encoded data removed]",
      "text/plain": [
       "<Figure size 640x480 with 2 Axes>"
      ]
     },
     "metadata": {},
     "output_type": "display_data"
    }
   ],
   "source": [
    "df_sqrt=np.sqrt(df)\n",
    "\n",
    "#define grid of plots\n",
    "fig,axs=plt.subplots(nrows=1,ncols=2)\n",
    "\n",
    "#creat histogram\n",
    "axs[0].hist(df,edgecolor='black')\n",
    "axs[1].hist(df_sqrt,edgecolor='black')\n",
    "plt.show()"
   ]
  },
  {
   "cell_type": "code",
   "execution_count": 317,
   "id": "390e8291",
   "metadata": {},
   "outputs": [
    {
     "data": {
      "text/html": [
       "<div>\n",
       "<style scoped>\n",
       "    .dataframe tbody tr th:only-of-type {\n",
       "        vertical-align: middle;\n",
       "    }\n",
       "\n",
       "    .dataframe tbody tr th {\n",
       "        vertical-align: top;\n",
       "    }\n",
       "\n",
       "    .dataframe thead th {\n",
       "        text-align: right;\n",
       "    }\n",
       "</style>\n",
       "<table border=\"1\" class=\"dataframe\">\n",
       "  <thead>\n",
       "    <tr style=\"text-align: right;\">\n",
       "      <th></th>\n",
       "      <th>YearsExperience</th>\n",
       "      <th>Salary</th>\n",
       "    </tr>\n",
       "  </thead>\n",
       "  <tbody>\n",
       "    <tr>\n",
       "      <th>0</th>\n",
       "      <td>1.048809</td>\n",
       "      <td>198.350700</td>\n",
       "    </tr>\n",
       "    <tr>\n",
       "      <th>1</th>\n",
       "      <td>1.140175</td>\n",
       "      <td>214.953483</td>\n",
       "    </tr>\n",
       "    <tr>\n",
       "      <th>2</th>\n",
       "      <td>1.224745</td>\n",
       "      <td>194.244691</td>\n",
       "    </tr>\n",
       "    <tr>\n",
       "      <th>3</th>\n",
       "      <td>1.414214</td>\n",
       "      <td>208.626460</td>\n",
       "    </tr>\n",
       "    <tr>\n",
       "      <th>4</th>\n",
       "      <td>1.483240</td>\n",
       "      <td>199.727314</td>\n",
       "    </tr>\n",
       "  </tbody>\n",
       "</table>\n",
       "</div>"
      ],
      "text/plain": [
       "   YearsExperience      Salary\n",
       "0         1.048809  198.350700\n",
       "1         1.140175  214.953483\n",
       "2         1.224745  194.244691\n",
       "3         1.414214  208.626460\n",
       "4         1.483240  199.727314"
      ]
     },
     "execution_count": 317,
     "metadata": {},
     "output_type": "execute_result"
    }
   ],
   "source": [
    "df_sqrt.head()"
   ]
  },
  {
   "cell_type": "markdown",
   "id": "cad00891",
   "metadata": {},
   "source": [
    "### separating the variables"
   ]
  },
  {
   "cell_type": "code",
   "execution_count": 318,
   "id": "fa72327d",
   "metadata": {},
   "outputs": [],
   "source": [
    "x=df_sqrt[['YearsExperience']]"
   ]
  },
  {
   "cell_type": "code",
   "execution_count": 319,
   "id": "feae93ce",
   "metadata": {},
   "outputs": [],
   "source": [
    "y=df_sqrt['Salary']"
   ]
  },
  {
   "cell_type": "markdown",
   "id": "b3da6dd0",
   "metadata": {},
   "source": [
    "## Fit the Model"
   ]
  },
  {
   "cell_type": "code",
   "execution_count": 320,
   "id": "960a55a3",
   "metadata": {},
   "outputs": [
    {
     "data": {
      "text/plain": [
       "LinearRegression()"
      ]
     },
     "execution_count": 320,
     "metadata": {},
     "output_type": "execute_result"
    }
   ],
   "source": [
    "reg=linear_model.LinearRegression()\n",
    "reg.fit(x,y)"
   ]
  },
  {
   "cell_type": "markdown",
   "id": "240f5b52",
   "metadata": {},
   "source": [
    "### Predict the value"
   ]
  },
  {
   "cell_type": "code",
   "execution_count": 321,
   "id": "dcc5a317",
   "metadata": {},
   "outputs": [
    {
     "data": {
      "text/plain": [
       "array([182.88622598, 189.79599988, 196.19172763, 210.52066342,\n",
       "       215.74089823, 232.35605495, 234.55771912, 238.85359917,\n",
       "       238.85359917, 249.0393387 , 252.91925438, 254.82189445,\n",
       "       254.82189445, 256.70089648, 263.99697981, 270.97538072,\n",
       "       274.35768907, 277.67430277, 287.26520996, 288.81542461,\n",
       "       300.77894118, 305.08223134, 316.13218413, 320.13060635,\n",
       "       326.63543214, 330.44882634, 336.66588965, 337.88950886,\n",
       "       346.28217966, 348.62729837])"
      ]
     },
     "execution_count": 321,
     "metadata": {},
     "output_type": "execute_result"
    }
   ],
   "source": [
    "y_pred=reg.predict(x)\n",
    "y_pred"
   ]
  },
  {
   "cell_type": "markdown",
   "id": "ca244541",
   "metadata": {},
   "source": [
    "# For model performance"
   ]
  },
  {
   "cell_type": "code",
   "execution_count": 225,
   "id": "acdba7e0",
   "metadata": {},
   "outputs": [],
   "source": [
    "from sklearn.metrics import mean_squared_error,r2_score"
   ]
  },
  {
   "cell_type": "markdown",
   "id": "ffca4b05",
   "metadata": {},
   "source": [
    "### Root mean square error"
   ]
  },
  {
   "cell_type": "code",
   "execution_count": 322,
   "id": "1cd579df",
   "metadata": {},
   "outputs": [
    {
     "data": {
      "text/plain": [
       "11.765354505779554"
      ]
     },
     "execution_count": 322,
     "metadata": {},
     "output_type": "execute_result"
    }
   ],
   "source": [
    "\n",
    "MSE=mean_squared_error(y,y_pred)\n",
    "MSE\n",
    "Root_mse=np.sqrt(MSE)\n",
    "Root_mse"
   ]
  },
  {
   "cell_type": "markdown",
   "id": "422494bb",
   "metadata": {},
   "source": [
    "### r2_score"
   ]
  },
  {
   "cell_type": "code",
   "execution_count": 323,
   "id": "cb73aeca",
   "metadata": {},
   "outputs": [
    {
     "data": {
      "text/plain": [
       "0.9419490138976824"
      ]
     },
     "execution_count": 323,
     "metadata": {},
     "output_type": "execute_result"
    }
   ],
   "source": [
    "r2_score(y,y_pred)"
   ]
  },
  {
   "cell_type": "markdown",
   "id": "5aca0af1",
   "metadata": {},
   "source": [
    "# Forth Model ( cube transformation)"
   ]
  },
  {
   "cell_type": "code",
   "execution_count": 335,
   "id": "bd8cef0f",
   "metadata": {},
   "outputs": [
    {
     "data": {
      "image/png": "[encoded data removed]",
      "text/plain": [
       "<Figure size 640x480 with 2 Axes>"
      ]
     },
     "metadata": {},
     "output_type": "display_data"
    }
   ],
   "source": [
    "df_cbrt=np.cbrt(df)\n",
    "\n",
    "#define grid of plots\n",
    "fig,axs=plt.subplots(nrows=1,ncols=2)\n",
    "\n",
    "#creat histogram\n",
    "axs[0].hist(df,edgecolor='black')\n",
    "axs[1].hist(df_cbrt,edgecolor='black')\n",
    "\n",
    "#add title\n",
    "axs[0].set_title('original data')\n",
    "axs[1].set_title('cuberoot transformation data')\n",
    "plt.show()"
   ]
  },
  {
   "cell_type": "code",
   "execution_count": 336,
   "id": "bf9c0e06",
   "metadata": {},
   "outputs": [
    {
     "data": {
      "text/html": [
       "<div>\n",
       "<style scoped>\n",
       "    .dataframe tbody tr th:only-of-type {\n",
       "        vertical-align: middle;\n",
       "    }\n",
       "\n",
       "    .dataframe tbody tr th {\n",
       "        vertical-align: top;\n",
       "    }\n",
       "\n",
       "    .dataframe thead th {\n",
       "        text-align: right;\n",
       "    }\n",
       "</style>\n",
       "<table border=\"1\" class=\"dataframe\">\n",
       "  <thead>\n",
       "    <tr style=\"text-align: right;\">\n",
       "      <th></th>\n",
       "      <th>YearsExperience</th>\n",
       "      <th>Salary</th>\n",
       "    </tr>\n",
       "  </thead>\n",
       "  <tbody>\n",
       "    <tr>\n",
       "      <th>0</th>\n",
       "      <td>1.032280</td>\n",
       "      <td>34.011242</td>\n",
       "    </tr>\n",
       "    <tr>\n",
       "      <th>1</th>\n",
       "      <td>1.091393</td>\n",
       "      <td>35.883626</td>\n",
       "    </tr>\n",
       "    <tr>\n",
       "      <th>2</th>\n",
       "      <td>1.144714</td>\n",
       "      <td>33.540235</td>\n",
       "    </tr>\n",
       "    <tr>\n",
       "      <th>3</th>\n",
       "      <td>1.259921</td>\n",
       "      <td>35.175984</td>\n",
       "    </tr>\n",
       "    <tr>\n",
       "      <th>4</th>\n",
       "      <td>1.300591</td>\n",
       "      <td>34.168426</td>\n",
       "    </tr>\n",
       "  </tbody>\n",
       "</table>\n",
       "</div>"
      ],
      "text/plain": [
       "   YearsExperience     Salary\n",
       "0         1.032280  34.011242\n",
       "1         1.091393  35.883626\n",
       "2         1.144714  33.540235\n",
       "3         1.259921  35.175984\n",
       "4         1.300591  34.168426"
      ]
     },
     "execution_count": 336,
     "metadata": {},
     "output_type": "execute_result"
    }
   ],
   "source": [
    "df_cbrt.head()"
   ]
  },
  {
   "cell_type": "markdown",
   "id": "0335450b",
   "metadata": {},
   "source": [
    "### Separating the variables"
   ]
  },
  {
   "cell_type": "code",
   "execution_count": 337,
   "id": "37d3dadd",
   "metadata": {},
   "outputs": [],
   "source": [
    "x=df_cbrt[['YearsExperience']]"
   ]
  },
  {
   "cell_type": "code",
   "execution_count": 338,
   "id": "4ffcf528",
   "metadata": {},
   "outputs": [],
   "source": [
    "y=df_cbrt['Salary']"
   ]
  },
  {
   "cell_type": "markdown",
   "id": "326f9379",
   "metadata": {},
   "source": [
    "## Fit the model"
   ]
  },
  {
   "cell_type": "code",
   "execution_count": 339,
   "id": "48a029f8",
   "metadata": {},
   "outputs": [
    {
     "data": {
      "text/plain": [
       "LinearRegression()"
      ]
     },
     "execution_count": 339,
     "metadata": {},
     "output_type": "execute_result"
    }
   ],
   "source": [
    "reg=linear_model.LinearRegression()\n",
    "reg.fit(x,y)"
   ]
  },
  {
   "cell_type": "markdown",
   "id": "79857795",
   "metadata": {},
   "source": [
    "### Predict the value"
   ]
  },
  {
   "cell_type": "code",
   "execution_count": 340,
   "id": "66637182",
   "metadata": {},
   "outputs": [
    {
     "data": {
      "text/plain": [
       "array([32.03738148, 32.91794016, 33.71222856, 35.42837818, 36.03421466,\n",
       "       37.90297479, 38.14438975, 38.61158133, 38.61158133, 39.7000173 ,\n",
       "       40.10788476, 40.30660278, 40.30660278, 40.50203582, 41.25344687,\n",
       "       41.96154956, 42.30120448, 42.63209166, 43.57734029, 43.72856292,\n",
       "       44.8817694 , 45.29083341, 46.32812435, 46.69901084, 47.29754881,\n",
       "       47.64572944, 48.20922439, 48.3195363 , 49.07105184, 49.27948699])"
      ]
     },
     "execution_count": 340,
     "metadata": {},
     "output_type": "execute_result"
    }
   ],
   "source": [
    "y_pred=reg.predict(x)\n",
    "y_pred"
   ]
  },
  {
   "cell_type": "markdown",
   "id": "7a5b83da",
   "metadata": {},
   "source": [
    "## For model performance"
   ]
  },
  {
   "cell_type": "code",
   "execution_count": 330,
   "id": "01935819",
   "metadata": {},
   "outputs": [],
   "source": [
    "from sklearn.metrics import mean_squared_error,r2_score"
   ]
  },
  {
   "cell_type": "markdown",
   "id": "97c9cc78",
   "metadata": {},
   "source": [
    "### Root mean Square error"
   ]
  },
  {
   "cell_type": "code",
   "execution_count": 341,
   "id": "37df69ec",
   "metadata": {},
   "outputs": [
    {
     "data": {
      "text/plain": [
       "1.306529847589427"
      ]
     },
     "execution_count": 341,
     "metadata": {},
     "output_type": "execute_result"
    }
   ],
   "source": [
    "\n",
    "MSE=mean_squared_error(y,y_pred)\n",
    "MSE\n",
    "Root_mse=np.sqrt(MSE)\n",
    "Root_mse"
   ]
  },
  {
   "cell_type": "markdown",
   "id": "28ff30c8",
   "metadata": {},
   "source": [
    "### R2_score"
   ]
  },
  {
   "cell_type": "code",
   "execution_count": 342,
   "id": "f5f1f7ca",
   "metadata": {},
   "outputs": [
    {
     "data": {
      "text/plain": [
       "0.9324434036761005"
      ]
     },
     "execution_count": 342,
     "metadata": {},
     "output_type": "execute_result"
    }
   ],
   "source": [
    "r2_score(y,y_pred)"
   ]
  },
  {
   "cell_type": "markdown",
   "id": "799d7573",
   "metadata": {},
   "source": [
    "# fifth Model (min max transformation)"
   ]
  },
  {
   "cell_type": "code",
   "execution_count": 343,
   "id": "3cf49591",
   "metadata": {},
   "outputs": [],
   "source": [
    "# Normalization function # use sklearn library norm\n",
    "def norm_func(i):\n",
    "    x = (i-i.min())/(i.max()-i.min())\n",
    "    return x"
   ]
  },
  {
   "cell_type": "code",
   "execution_count": 344,
   "id": "14b7cabc",
   "metadata": {},
   "outputs": [
    {
     "data": {
      "text/html": [
       "<div>\n",
       "<style scoped>\n",
       "    .dataframe tbody tr th:only-of-type {\n",
       "        vertical-align: middle;\n",
       "    }\n",
       "\n",
       "    .dataframe tbody tr th {\n",
       "        vertical-align: top;\n",
       "    }\n",
       "\n",
       "    .dataframe thead th {\n",
       "        text-align: right;\n",
       "    }\n",
       "</style>\n",
       "<table border=\"1\" class=\"dataframe\">\n",
       "  <thead>\n",
       "    <tr style=\"text-align: right;\">\n",
       "      <th></th>\n",
       "      <th>YearsExperience</th>\n",
       "      <th>Salary</th>\n",
       "    </tr>\n",
       "  </thead>\n",
       "  <tbody>\n",
       "    <tr>\n",
       "      <th>0</th>\n",
       "      <td>0.000000</td>\n",
       "      <td>0.019041</td>\n",
       "    </tr>\n",
       "    <tr>\n",
       "      <th>1</th>\n",
       "      <td>0.021277</td>\n",
       "      <td>0.100094</td>\n",
       "    </tr>\n",
       "    <tr>\n",
       "      <th>2</th>\n",
       "      <td>0.042553</td>\n",
       "      <td>0.000000</td>\n",
       "    </tr>\n",
       "    <tr>\n",
       "      <th>3</th>\n",
       "      <td>0.095745</td>\n",
       "      <td>0.068438</td>\n",
       "    </tr>\n",
       "    <tr>\n",
       "      <th>4</th>\n",
       "      <td>0.117021</td>\n",
       "      <td>0.025514</td>\n",
       "    </tr>\n",
       "  </tbody>\n",
       "</table>\n",
       "</div>"
      ],
      "text/plain": [
       "   YearsExperience    Salary\n",
       "0         0.000000  0.019041\n",
       "1         0.021277  0.100094\n",
       "2         0.042553  0.000000\n",
       "3         0.095745  0.068438\n",
       "4         0.117021  0.025514"
      ]
     },
     "execution_count": 344,
     "metadata": {},
     "output_type": "execute_result"
    }
   ],
   "source": [
    "# Normalized data frame \n",
    "df_norm = norm_func(df.iloc[:])\n",
    "df_norm.head()"
   ]
  },
  {
   "cell_type": "markdown",
   "id": "261222ba",
   "metadata": {},
   "source": [
    "### Separating the variable"
   ]
  },
  {
   "cell_type": "code",
   "execution_count": 345,
   "id": "d0457d72",
   "metadata": {},
   "outputs": [],
   "source": [
    "x=df_norm[[\"YearsExperience\"]]"
   ]
  },
  {
   "cell_type": "code",
   "execution_count": 346,
   "id": "234999cc",
   "metadata": {},
   "outputs": [],
   "source": [
    "y=df_norm[\"Salary\"]"
   ]
  },
  {
   "cell_type": "markdown",
   "id": "ee9d21dc",
   "metadata": {},
   "source": [
    "## Fit the model"
   ]
  },
  {
   "cell_type": "code",
   "execution_count": 347,
   "id": "107213d2",
   "metadata": {},
   "outputs": [
    {
     "data": {
      "text/plain": [
       "LinearRegression()"
      ]
     },
     "execution_count": 347,
     "metadata": {},
     "output_type": "execute_result"
    }
   ],
   "source": [
    "reg=linear_model.LinearRegression()\n",
    "reg.fit(x,y)"
   ]
  },
  {
   "cell_type": "markdown",
   "id": "bd87f1ea",
   "metadata": {},
   "source": [
    "### Predict the value"
   ]
  },
  {
   "cell_type": "code",
   "execution_count": 348,
   "id": "f31e3c3e",
   "metadata": {},
   "outputs": [
    {
     "data": {
      "text/plain": [
       "array([-0.01823578,  0.00408872,  0.02641323,  0.08222448,  0.10454899,\n",
       "        0.18268475,  0.193847  ,  0.21617151,  0.21617151,  0.27198276,\n",
       "        0.29430727,  0.30546952,  0.30546952,  0.31663177,  0.36128078,\n",
       "        0.40592978,  0.42825429,  0.45057879,  0.5175523 ,  0.52871455,\n",
       "        0.61801257,  0.65149932,  0.74079734,  0.77428409,  0.83009535,\n",
       "        0.86358211,  0.91939336,  0.93055562,  1.00869138,  1.03101588])"
      ]
     },
     "execution_count": 348,
     "metadata": {},
     "output_type": "execute_result"
    }
   ],
   "source": [
    "y_pred=reg.predict(x)\n",
    "y_pred"
   ]
  },
  {
   "cell_type": "markdown",
   "id": "323aed15",
   "metadata": {},
   "source": [
    "## For model performance"
   ]
  },
  {
   "cell_type": "code",
   "execution_count": 243,
   "id": "5e54103f",
   "metadata": {},
   "outputs": [],
   "source": [
    "from sklearn.metrics import mean_squared_error,r2_score"
   ]
  },
  {
   "cell_type": "markdown",
   "id": "e172a176",
   "metadata": {},
   "source": [
    "### root mean square error"
   ]
  },
  {
   "cell_type": "code",
   "execution_count": 349,
   "id": "9b7a7c6d",
   "metadata": {},
   "outputs": [
    {
     "data": {
      "text/plain": [
       "0.06605296017907702"
      ]
     },
     "execution_count": 349,
     "metadata": {},
     "output_type": "execute_result"
    }
   ],
   "source": [
    "\n",
    "MSE=mean_squared_error(y,y_pred)\n",
    "MSE\n",
    "Root_mse=np.sqrt(MSE)\n",
    "Root_mse"
   ]
  },
  {
   "cell_type": "markdown",
   "id": "cab36041",
   "metadata": {},
   "source": [
    "### r2_score"
   ]
  },
  {
   "cell_type": "code",
   "execution_count": 350,
   "id": "1f6664a3",
   "metadata": {},
   "outputs": [
    {
     "data": {
      "text/plain": [
       "0.9569566641435086"
      ]
     },
     "execution_count": 350,
     "metadata": {},
     "output_type": "execute_result"
    }
   ],
   "source": [
    "r2_score(y,y_pred)"
   ]
  },
  {
   "cell_type": "markdown",
   "id": "951e0b51",
   "metadata": {},
   "source": [
    "## Conclusion = First and fifth  both are best Model because it give the high R2_score Value\n",
    "#### (both model have equal R2_score value)"
   ]
  },
  {
   "cell_type": "code",
   "execution_count": null,
   "id": "7c691e88",
   "metadata": {},
   "outputs": [],
   "source": []
  },
  {
   "cell_type": "markdown",
   "id": "c6e07e24",
   "metadata": {},
   "source": [
    "#  Problem-2\n",
    "Delivery_time -> Predict delivery time using sorting time .....?"
   ]
  },
  {
   "cell_type": "markdown",
   "id": "8a88742f",
   "metadata": {},
   "source": [
    "### read the csv file of DELIVERY TIME"
   ]
  },
  {
   "cell_type": "code",
   "execution_count": 351,
   "id": "a1c2d0bc",
   "metadata": {},
   "outputs": [],
   "source": [
    "data=pd.read_csv(\"Delivery_time.csv\")"
   ]
  },
  {
   "cell_type": "markdown",
   "id": "cd2e93f7",
   "metadata": {},
   "source": [
    "# EDA "
   ]
  },
  {
   "cell_type": "markdown",
   "id": "cbe0e351",
   "metadata": {},
   "source": [
    "### head of the data"
   ]
  },
  {
   "cell_type": "code",
   "execution_count": 352,
   "id": "cb94d530",
   "metadata": {},
   "outputs": [
    {
     "data": {
      "text/html": [
       "<div>\n",
       "<style scoped>\n",
       "    .dataframe tbody tr th:only-of-type {\n",
       "        vertical-align: middle;\n",
       "    }\n",
       "\n",
       "    .dataframe tbody tr th {\n",
       "        vertical-align: top;\n",
       "    }\n",
       "\n",
       "    .dataframe thead th {\n",
       "        text-align: right;\n",
       "    }\n",
       "</style>\n",
       "<table border=\"1\" class=\"dataframe\">\n",
       "  <thead>\n",
       "    <tr style=\"text-align: right;\">\n",
       "      <th></th>\n",
       "      <th>Delivery Time</th>\n",
       "      <th>Sorting Time</th>\n",
       "    </tr>\n",
       "  </thead>\n",
       "  <tbody>\n",
       "    <tr>\n",
       "      <th>0</th>\n",
       "      <td>21.00</td>\n",
       "      <td>10</td>\n",
       "    </tr>\n",
       "    <tr>\n",
       "      <th>1</th>\n",
       "      <td>13.50</td>\n",
       "      <td>4</td>\n",
       "    </tr>\n",
       "    <tr>\n",
       "      <th>2</th>\n",
       "      <td>19.75</td>\n",
       "      <td>6</td>\n",
       "    </tr>\n",
       "    <tr>\n",
       "      <th>3</th>\n",
       "      <td>24.00</td>\n",
       "      <td>9</td>\n",
       "    </tr>\n",
       "    <tr>\n",
       "      <th>4</th>\n",
       "      <td>29.00</td>\n",
       "      <td>10</td>\n",
       "    </tr>\n",
       "  </tbody>\n",
       "</table>\n",
       "</div>"
      ],
      "text/plain": [
       "   Delivery Time  Sorting Time\n",
       "0          21.00            10\n",
       "1          13.50             4\n",
       "2          19.75             6\n",
       "3          24.00             9\n",
       "4          29.00            10"
      ]
     },
     "execution_count": 352,
     "metadata": {},
     "output_type": "execute_result"
    }
   ],
   "source": [
    "data.head()"
   ]
  },
  {
   "cell_type": "markdown",
   "id": "27a111f3",
   "metadata": {},
   "source": [
    "### count the number of rows and number of column"
   ]
  },
  {
   "cell_type": "code",
   "execution_count": 353,
   "id": "a271b7ee",
   "metadata": {},
   "outputs": [
    {
     "data": {
      "text/plain": [
       "(21, 2)"
      ]
     },
     "execution_count": 353,
     "metadata": {},
     "output_type": "execute_result"
    }
   ],
   "source": [
    "data.shape"
   ]
  },
  {
   "cell_type": "markdown",
   "id": "f4e21fe6",
   "metadata": {},
   "source": [
    "### to see is there any null value in our data"
   ]
  },
  {
   "cell_type": "code",
   "execution_count": 354,
   "id": "d653c842",
   "metadata": {},
   "outputs": [
    {
     "data": {
      "text/plain": [
       "Delivery Time    0\n",
       "Sorting Time     0\n",
       "dtype: int64"
      ]
     },
     "execution_count": 354,
     "metadata": {},
     "output_type": "execute_result"
    }
   ],
   "source": [
    "data.isnull().sum()"
   ]
  },
  {
   "cell_type": "markdown",
   "id": "f8ebf943",
   "metadata": {},
   "source": [
    "### to find the no.of the duplicated value in row "
   ]
  },
  {
   "cell_type": "code",
   "execution_count": 355,
   "id": "94f7d7f2",
   "metadata": {},
   "outputs": [
    {
     "data": {
      "text/plain": [
       "Series([], dtype: int64)"
      ]
     },
     "execution_count": 355,
     "metadata": {},
     "output_type": "execute_result"
    }
   ],
   "source": [
    "data[data.duplicated()].value_counts() # there is no any duplicated row"
   ]
  },
  {
   "cell_type": "markdown",
   "id": "b7901db0",
   "metadata": {},
   "source": [
    "### scatter plot of given data"
   ]
  },
  {
   "cell_type": "code",
   "execution_count": 357,
   "id": "e00c2daa",
   "metadata": {},
   "outputs": [
    {
     "data": {
      "image/png": "[encoded data removed]",
      "text/plain": [
       "<Figure size 640x480 with 1 Axes>"
      ]
     },
     "metadata": {},
     "output_type": "display_data"
    }
   ],
   "source": [
    "\n",
    "plt.xlabel('Sorting Time')\n",
    "plt.ylabel('Delivery Time')\n",
    "plt.scatter(x=data[\"Sorting Time\"],y=data['Delivery Time'],color='red',marker=\"+\")\n",
    "plt.show()"
   ]
  },
  {
   "cell_type": "markdown",
   "id": "e57b958b",
   "metadata": {},
   "source": [
    "### Box plot to detect the outlier"
   ]
  },
  {
   "cell_type": "code",
   "execution_count": 358,
   "id": "ffbd3dba",
   "metadata": {},
   "outputs": [
    {
     "data": {
      "image/png": "[encoded data removed]",
      "text/plain": [
       "<Figure size 640x480 with 1 Axes>"
      ]
     },
     "metadata": {},
     "output_type": "display_data"
    }
   ],
   "source": [
    "\n",
    "data.plot(kind=\"box\")\n",
    "plt.show()"
   ]
  },
  {
   "cell_type": "code",
   "execution_count": 359,
   "id": "393c379a",
   "metadata": {},
   "outputs": [
    {
     "data": {
      "image/png": "[encoded data removed]",
      "text/plain": [
       "<Figure size 500x500 with 1 Axes>"
      ]
     },
     "metadata": {},
     "output_type": "display_data"
    }
   ],
   "source": [
    "import seaborn as sns\n",
    "sns.displot(data['Delivery Time'],kde=True)\n",
    "plt.show()"
   ]
  },
  {
   "cell_type": "code",
   "execution_count": 360,
   "id": "8dcbcb7b",
   "metadata": {},
   "outputs": [
    {
     "data": {
      "image/png": "[encoded data removed]",
      "text/plain": [
       "<Figure size 500x500 with 1 Axes>"
      ]
     },
     "metadata": {},
     "output_type": "display_data"
    }
   ],
   "source": [
    "import seaborn as sns\n",
    "sns.displot(data['Sorting Time'],kde=True)\n",
    "plt.show()"
   ]
  },
  {
   "cell_type": "markdown",
   "id": "44ac7efb",
   "metadata": {},
   "source": [
    "# to see the best fit line"
   ]
  },
  {
   "cell_type": "code",
   "execution_count": 361,
   "id": "91cc02e4",
   "metadata": {},
   "outputs": [
    {
     "data": {
      "image/png": "[encoded data removed]",
      "text/plain": [
       "<Figure size 640x480 with 1 Axes>"
      ]
     },
     "metadata": {},
     "output_type": "display_data"
    }
   ],
   "source": [
    "import seaborn as sns\n",
    "sns.regplot(data[\"Sorting Time\"],data[\"Delivery Time\"],data=data)\n",
    "plt.show()"
   ]
  },
  {
   "cell_type": "markdown",
   "id": "2b1b54a0",
   "metadata": {},
   "source": [
    "# first Model"
   ]
  },
  {
   "cell_type": "markdown",
   "id": "45fd2a87",
   "metadata": {},
   "source": [
    "### separating the variables"
   ]
  },
  {
   "cell_type": "code",
   "execution_count": 362,
   "id": "68c3dcb1",
   "metadata": {},
   "outputs": [
    {
     "data": {
      "text/html": [
       "<div>\n",
       "<style scoped>\n",
       "    .dataframe tbody tr th:only-of-type {\n",
       "        vertical-align: middle;\n",
       "    }\n",
       "\n",
       "    .dataframe tbody tr th {\n",
       "        vertical-align: top;\n",
       "    }\n",
       "\n",
       "    .dataframe thead th {\n",
       "        text-align: right;\n",
       "    }\n",
       "</style>\n",
       "<table border=\"1\" class=\"dataframe\">\n",
       "  <thead>\n",
       "    <tr style=\"text-align: right;\">\n",
       "      <th></th>\n",
       "      <th>Sorting Time</th>\n",
       "    </tr>\n",
       "  </thead>\n",
       "  <tbody>\n",
       "    <tr>\n",
       "      <th>0</th>\n",
       "      <td>10</td>\n",
       "    </tr>\n",
       "    <tr>\n",
       "      <th>1</th>\n",
       "      <td>4</td>\n",
       "    </tr>\n",
       "    <tr>\n",
       "      <th>2</th>\n",
       "      <td>6</td>\n",
       "    </tr>\n",
       "    <tr>\n",
       "      <th>3</th>\n",
       "      <td>9</td>\n",
       "    </tr>\n",
       "    <tr>\n",
       "      <th>4</th>\n",
       "      <td>10</td>\n",
       "    </tr>\n",
       "  </tbody>\n",
       "</table>\n",
       "</div>"
      ],
      "text/plain": [
       "   Sorting Time\n",
       "0            10\n",
       "1             4\n",
       "2             6\n",
       "3             9\n",
       "4            10"
      ]
     },
     "execution_count": 362,
     "metadata": {},
     "output_type": "execute_result"
    }
   ],
   "source": [
    "x=data[[\"Sorting Time\"]]\n",
    "x.head()"
   ]
  },
  {
   "cell_type": "code",
   "execution_count": 363,
   "id": "c1ecd532",
   "metadata": {},
   "outputs": [],
   "source": [
    "y=data[\"Delivery Time\"]"
   ]
  },
  {
   "cell_type": "markdown",
   "id": "6eb029b9",
   "metadata": {},
   "source": [
    "# fit the model"
   ]
  },
  {
   "cell_type": "code",
   "execution_count": 364,
   "id": "5c4003d5",
   "metadata": {},
   "outputs": [
    {
     "data": {
      "text/plain": [
       "LinearRegression()"
      ]
     },
     "execution_count": 364,
     "metadata": {},
     "output_type": "execute_result"
    }
   ],
   "source": [
    "reg=linear_model.LinearRegression()\n",
    "reg.fit(x,y)"
   ]
  },
  {
   "cell_type": "markdown",
   "id": "6e875ded",
   "metadata": {},
   "source": [
    "# to see the model prediction"
   ]
  },
  {
   "cell_type": "code",
   "execution_count": 365,
   "id": "05574db1",
   "metadata": {},
   "outputs": [],
   "source": [
    "y_pred=reg.predict(x)\n"
   ]
  },
  {
   "cell_type": "code",
   "execution_count": 366,
   "id": "92f3229c",
   "metadata": {},
   "outputs": [
    {
     "data": {
      "text/plain": [
       "array([23.07293294, 13.17881356, 16.47685335, 21.42391304, 23.07293294,\n",
       "       16.47685335, 18.12587325, 11.52979366, 23.07293294, 21.42391304,\n",
       "       19.77489315, 13.17881356, 18.12587325, 11.52979366, 11.52979366,\n",
       "       13.17881356, 16.47685335, 18.12587325,  9.88077377, 18.12587325,\n",
       "       14.82783346])"
      ]
     },
     "execution_count": 366,
     "metadata": {},
     "output_type": "execute_result"
    }
   ],
   "source": [
    "y_pred"
   ]
  },
  {
   "cell_type": "markdown",
   "id": "30b38c42",
   "metadata": {},
   "source": [
    "### draw the linear line\n",
    "### red stars data points are the predicted values\n",
    "### blue balls data points are the actual points\n"
   ]
  },
  {
   "cell_type": "code",
   "execution_count": 367,
   "id": "d680e92b",
   "metadata": {},
   "outputs": [
    {
     "data": {
      "image/png": "[encoded data removed]",
      "text/plain": [
       "<Figure size 640x480 with 1 Axes>"
      ]
     },
     "metadata": {},
     "output_type": "display_data"
    }
   ],
   "source": [
    "\n",
    "plt.scatter(x=data[\"Sorting Time\"],y=data[\"Delivery Time\"]) \n",
    "plt.scatter(x=data[\"Sorting Time\"],y=y_pred,color='red',marker=\"*\") \n",
    "plt.plot(data[\"Sorting Time\"],y_pred,color='black')\n",
    "plt.show()"
   ]
  },
  {
   "cell_type": "code",
   "execution_count": 368,
   "id": "321977bb",
   "metadata": {},
   "outputs": [
    {
     "data": {
      "text/plain": [
       "array([23.07293294])"
      ]
     },
     "execution_count": 368,
     "metadata": {},
     "output_type": "execute_result"
    }
   ],
   "source": [
    "reg.predict([[10]])"
   ]
  },
  {
   "cell_type": "markdown",
   "id": "28462c09",
   "metadata": {},
   "source": [
    "# for model performance"
   ]
  },
  {
   "cell_type": "code",
   "execution_count": null,
   "id": "d96586a4",
   "metadata": {},
   "outputs": [],
   "source": [
    "from sklearn.metrics import mean_squared_error,r2_score"
   ]
  },
  {
   "cell_type": "markdown",
   "id": "231939d1",
   "metadata": {},
   "source": [
    "### mean square error"
   ]
  },
  {
   "cell_type": "code",
   "execution_count": 369,
   "id": "3ec8c148",
   "metadata": {},
   "outputs": [],
   "source": [
    "\n",
    "MSE=mean_squared_error(y,y_pred)"
   ]
  },
  {
   "cell_type": "code",
   "execution_count": 370,
   "id": "a51fccd8",
   "metadata": {},
   "outputs": [
    {
     "data": {
      "text/plain": [
       "7.793311548584063"
      ]
     },
     "execution_count": 370,
     "metadata": {},
     "output_type": "execute_result"
    }
   ],
   "source": [
    "MSE"
   ]
  },
  {
   "cell_type": "markdown",
   "id": "eb4e6511",
   "metadata": {},
   "source": [
    "### root mean square error"
   ]
  },
  {
   "cell_type": "code",
   "execution_count": 371,
   "id": "53ed44d3",
   "metadata": {},
   "outputs": [],
   "source": [
    "Root_mse=np.sqrt(MSE)"
   ]
  },
  {
   "cell_type": "code",
   "execution_count": 372,
   "id": "19996d05",
   "metadata": {},
   "outputs": [
    {
     "data": {
      "text/plain": [
       "2.7916503270617654"
      ]
     },
     "execution_count": 372,
     "metadata": {},
     "output_type": "execute_result"
    }
   ],
   "source": [
    "Root_mse"
   ]
  },
  {
   "cell_type": "markdown",
   "id": "b4897571",
   "metadata": {},
   "source": [
    "### R2 score"
   ]
  },
  {
   "cell_type": "code",
   "execution_count": 373,
   "id": "85f4b4d1",
   "metadata": {},
   "outputs": [
    {
     "data": {
      "text/plain": [
       "0.6822714748417231"
      ]
     },
     "execution_count": 373,
     "metadata": {},
     "output_type": "execute_result"
    }
   ],
   "source": [
    "r2_score(data[\"Delivery Time\"],y_pred)"
   ]
  },
  {
   "cell_type": "markdown",
   "id": "7f8ab3e3",
   "metadata": {},
   "source": [
    "# Second Model ( log transformation)"
   ]
  },
  {
   "cell_type": "code",
   "execution_count": 374,
   "id": "d27eee84",
   "metadata": {},
   "outputs": [
    {
     "data": {
      "image/png": "[encoded data removed]",
      "text/plain": [
       "<Figure size 640x480 with 2 Axes>"
      ]
     },
     "metadata": {},
     "output_type": "display_data"
    }
   ],
   "source": [
    "data_log=np.log(data)\n",
    "#define grid of plots\n",
    "fig,axs=plt.subplots(nrows=1,ncols=2)\n",
    "#creat histogram\n",
    "axs[0].hist(data,edgecolor='black')\n",
    "axs[1].hist(data_log,edgecolor='black')\n",
    "#add title\n",
    "axs[0].set_title('original data')\n",
    "axs[1].set_title('log transformation data')\n",
    "plt.show()"
   ]
  },
  {
   "cell_type": "code",
   "execution_count": 375,
   "id": "4cc268d1",
   "metadata": {},
   "outputs": [
    {
     "data": {
      "text/html": [
       "<div>\n",
       "<style scoped>\n",
       "    .dataframe tbody tr th:only-of-type {\n",
       "        vertical-align: middle;\n",
       "    }\n",
       "\n",
       "    .dataframe tbody tr th {\n",
       "        vertical-align: top;\n",
       "    }\n",
       "\n",
       "    .dataframe thead th {\n",
       "        text-align: right;\n",
       "    }\n",
       "</style>\n",
       "<table border=\"1\" class=\"dataframe\">\n",
       "  <thead>\n",
       "    <tr style=\"text-align: right;\">\n",
       "      <th></th>\n",
       "      <th>Delivery Time</th>\n",
       "      <th>Sorting Time</th>\n",
       "    </tr>\n",
       "  </thead>\n",
       "  <tbody>\n",
       "    <tr>\n",
       "      <th>0</th>\n",
       "      <td>3.044522</td>\n",
       "      <td>2.302585</td>\n",
       "    </tr>\n",
       "    <tr>\n",
       "      <th>1</th>\n",
       "      <td>2.602690</td>\n",
       "      <td>1.386294</td>\n",
       "    </tr>\n",
       "    <tr>\n",
       "      <th>2</th>\n",
       "      <td>2.983153</td>\n",
       "      <td>1.791759</td>\n",
       "    </tr>\n",
       "    <tr>\n",
       "      <th>3</th>\n",
       "      <td>3.178054</td>\n",
       "      <td>2.197225</td>\n",
       "    </tr>\n",
       "    <tr>\n",
       "      <th>4</th>\n",
       "      <td>3.367296</td>\n",
       "      <td>2.302585</td>\n",
       "    </tr>\n",
       "  </tbody>\n",
       "</table>\n",
       "</div>"
      ],
      "text/plain": [
       "   Delivery Time  Sorting Time\n",
       "0       3.044522      2.302585\n",
       "1       2.602690      1.386294\n",
       "2       2.983153      1.791759\n",
       "3       3.178054      2.197225\n",
       "4       3.367296      2.302585"
      ]
     },
     "execution_count": 375,
     "metadata": {},
     "output_type": "execute_result"
    }
   ],
   "source": [
    "data_log.head()"
   ]
  },
  {
   "cell_type": "markdown",
   "id": "695eeed4",
   "metadata": {},
   "source": [
    "### separate the variables"
   ]
  },
  {
   "cell_type": "code",
   "execution_count": 376,
   "id": "126186bd",
   "metadata": {},
   "outputs": [
    {
     "data": {
      "text/html": [
       "<div>\n",
       "<style scoped>\n",
       "    .dataframe tbody tr th:only-of-type {\n",
       "        vertical-align: middle;\n",
       "    }\n",
       "\n",
       "    .dataframe tbody tr th {\n",
       "        vertical-align: top;\n",
       "    }\n",
       "\n",
       "    .dataframe thead th {\n",
       "        text-align: right;\n",
       "    }\n",
       "</style>\n",
       "<table border=\"1\" class=\"dataframe\">\n",
       "  <thead>\n",
       "    <tr style=\"text-align: right;\">\n",
       "      <th></th>\n",
       "      <th>Sorting Time</th>\n",
       "    </tr>\n",
       "  </thead>\n",
       "  <tbody>\n",
       "    <tr>\n",
       "      <th>0</th>\n",
       "      <td>2.302585</td>\n",
       "    </tr>\n",
       "    <tr>\n",
       "      <th>1</th>\n",
       "      <td>1.386294</td>\n",
       "    </tr>\n",
       "    <tr>\n",
       "      <th>2</th>\n",
       "      <td>1.791759</td>\n",
       "    </tr>\n",
       "    <tr>\n",
       "      <th>3</th>\n",
       "      <td>2.197225</td>\n",
       "    </tr>\n",
       "    <tr>\n",
       "      <th>4</th>\n",
       "      <td>2.302585</td>\n",
       "    </tr>\n",
       "  </tbody>\n",
       "</table>\n",
       "</div>"
      ],
      "text/plain": [
       "   Sorting Time\n",
       "0      2.302585\n",
       "1      1.386294\n",
       "2      1.791759\n",
       "3      2.197225\n",
       "4      2.302585"
      ]
     },
     "execution_count": 376,
     "metadata": {},
     "output_type": "execute_result"
    }
   ],
   "source": [
    "x=data_log[['Sorting Time']]\n",
    "x.head()"
   ]
  },
  {
   "cell_type": "code",
   "execution_count": 377,
   "id": "6e1249b9",
   "metadata": {},
   "outputs": [
    {
     "data": {
      "text/plain": [
       "0    3.044522\n",
       "1    2.602690\n",
       "2    2.983153\n",
       "3    3.178054\n",
       "4    3.367296\n",
       "Name: Delivery Time, dtype: float64"
      ]
     },
     "execution_count": 377,
     "metadata": {},
     "output_type": "execute_result"
    }
   ],
   "source": [
    "y=data_log['Delivery Time']\n",
    "y.head()"
   ]
  },
  {
   "cell_type": "markdown",
   "id": "940b09a2",
   "metadata": {},
   "source": [
    "### fit the model"
   ]
  },
  {
   "cell_type": "code",
   "execution_count": 378,
   "id": "e69b83db",
   "metadata": {},
   "outputs": [
    {
     "data": {
      "text/plain": [
       "LinearRegression()"
      ]
     },
     "execution_count": 378,
     "metadata": {},
     "output_type": "execute_result"
    }
   ],
   "source": [
    "reg=linear_model.LinearRegression()\n",
    "reg.fit(x,y)"
   ]
  },
  {
   "cell_type": "markdown",
   "id": "789a6d1a",
   "metadata": {},
   "source": [
    "### Predict the Model"
   ]
  },
  {
   "cell_type": "code",
   "execution_count": 379,
   "id": "a6a2cba3",
   "metadata": {},
   "outputs": [
    {
     "data": {
      "text/plain": [
       "array([3.1178331 , 2.57032892, 2.81260338, 3.05487783, 3.1178331 ,\n",
       "       2.81260338, 2.90471185, 2.39843246, 3.1178331 , 3.05487783,\n",
       "       2.98449984, 2.57032892, 2.90471185, 2.39843246, 2.39843246,\n",
       "       2.57032892, 2.81260338, 2.90471185, 2.15615801, 2.90471185,\n",
       "       2.70366218])"
      ]
     },
     "execution_count": 379,
     "metadata": {},
     "output_type": "execute_result"
    }
   ],
   "source": [
    "y_pred=reg.predict(x)\n",
    "y_pred"
   ]
  },
  {
   "cell_type": "code",
   "execution_count": 380,
   "id": "be14f4cc",
   "metadata": {},
   "outputs": [
    {
     "data": {
      "image/png": "[encoded data removed]",
      "text/plain": [
       "<Figure size 640x480 with 1 Axes>"
      ]
     },
     "metadata": {},
     "output_type": "display_data"
    }
   ],
   "source": [
    "\n",
    "plt.scatter(x,y) \n",
    "plt.scatter(x,y=y_pred,color='red',marker=\"*\") \n",
    "plt.plot(x,y_pred,color='black')\n",
    "plt.show()"
   ]
  },
  {
   "cell_type": "code",
   "execution_count": 381,
   "id": "96507abf",
   "metadata": {},
   "outputs": [
    {
     "data": {
      "text/plain": [
       "array([7.71721038])"
      ]
     },
     "execution_count": 381,
     "metadata": {},
     "output_type": "execute_result"
    }
   ],
   "source": [
    "reg.predict([[10]])"
   ]
  },
  {
   "cell_type": "markdown",
   "id": "a88a2e9c",
   "metadata": {},
   "source": [
    "# for model performance"
   ]
  },
  {
   "cell_type": "code",
   "execution_count": null,
   "id": "c21e59ee",
   "metadata": {},
   "outputs": [],
   "source": [
    "from sklearn.metrics import mean_squared_error,r2_score"
   ]
  },
  {
   "cell_type": "markdown",
   "id": "dfef3134",
   "metadata": {},
   "source": [
    "### calculate the Root mean square error"
   ]
  },
  {
   "cell_type": "code",
   "execution_count": 382,
   "id": "cc00f3ab",
   "metadata": {},
   "outputs": [
    {
     "data": {
      "text/plain": [
       "0.021973058112488144"
      ]
     },
     "execution_count": 382,
     "metadata": {},
     "output_type": "execute_result"
    }
   ],
   "source": [
    "\n",
    "MSE=mean_squared_error(y,y_pred)\n",
    "MSE"
   ]
  },
  {
   "cell_type": "code",
   "execution_count": 383,
   "id": "8f9d9742",
   "metadata": {},
   "outputs": [
    {
     "data": {
      "text/plain": [
       "0.14823312083501494"
      ]
     },
     "execution_count": 383,
     "metadata": {},
     "output_type": "execute_result"
    }
   ],
   "source": [
    "Root_mse=np.sqrt(MSE)\n",
    "Root_mse"
   ]
  },
  {
   "cell_type": "markdown",
   "id": "e280f381",
   "metadata": {},
   "source": [
    "### R2_score"
   ]
  },
  {
   "cell_type": "code",
   "execution_count": 384,
   "id": "57659d99",
   "metadata": {},
   "outputs": [
    {
     "data": {
      "text/plain": [
       "0.77216134926874"
      ]
     },
     "execution_count": 384,
     "metadata": {},
     "output_type": "execute_result"
    }
   ],
   "source": [
    " r2_score(y,y_pred)"
   ]
  },
  {
   "cell_type": "markdown",
   "id": "4e781403",
   "metadata": {},
   "source": [
    "# Third Model ( Squareoot transformation)"
   ]
  },
  {
   "cell_type": "code",
   "execution_count": 385,
   "id": "afef51f5",
   "metadata": {},
   "outputs": [
    {
     "data": {
      "image/png": "[encoded data removed]",
      "text/plain": [
       "<Figure size 640x480 with 2 Axes>"
      ]
     },
     "metadata": {},
     "output_type": "display_data"
    }
   ],
   "source": [
    "data_sqrt=np.sqrt(data)\n",
    "#define grid of plots\n",
    "fig,axs=plt.subplots(nrows=1,ncols=2)\n",
    "#creat histogram\n",
    "axs[0].hist(data,edgecolor='black')\n",
    "axs[1].hist(data_sqrt,edgecolor='black')\n",
    "\n",
    "#add title\n",
    "axs[0].set_title('original data')\n",
    "axs[1].set_title('squareroot transformation data')\n",
    "plt.show()"
   ]
  },
  {
   "cell_type": "markdown",
   "id": "d7472e17",
   "metadata": {},
   "source": [
    "### Separating the variables"
   ]
  },
  {
   "cell_type": "code",
   "execution_count": 386,
   "id": "3e660119",
   "metadata": {},
   "outputs": [
    {
     "data": {
      "text/html": [
       "<div>\n",
       "<style scoped>\n",
       "    .dataframe tbody tr th:only-of-type {\n",
       "        vertical-align: middle;\n",
       "    }\n",
       "\n",
       "    .dataframe tbody tr th {\n",
       "        vertical-align: top;\n",
       "    }\n",
       "\n",
       "    .dataframe thead th {\n",
       "        text-align: right;\n",
       "    }\n",
       "</style>\n",
       "<table border=\"1\" class=\"dataframe\">\n",
       "  <thead>\n",
       "    <tr style=\"text-align: right;\">\n",
       "      <th></th>\n",
       "      <th>Sorting Time</th>\n",
       "    </tr>\n",
       "  </thead>\n",
       "  <tbody>\n",
       "    <tr>\n",
       "      <th>0</th>\n",
       "      <td>3.162278</td>\n",
       "    </tr>\n",
       "    <tr>\n",
       "      <th>1</th>\n",
       "      <td>2.000000</td>\n",
       "    </tr>\n",
       "    <tr>\n",
       "      <th>2</th>\n",
       "      <td>2.449490</td>\n",
       "    </tr>\n",
       "    <tr>\n",
       "      <th>3</th>\n",
       "      <td>3.000000</td>\n",
       "    </tr>\n",
       "    <tr>\n",
       "      <th>4</th>\n",
       "      <td>3.162278</td>\n",
       "    </tr>\n",
       "  </tbody>\n",
       "</table>\n",
       "</div>"
      ],
      "text/plain": [
       "   Sorting Time\n",
       "0      3.162278\n",
       "1      2.000000\n",
       "2      2.449490\n",
       "3      3.000000\n",
       "4      3.162278"
      ]
     },
     "execution_count": 386,
     "metadata": {},
     "output_type": "execute_result"
    }
   ],
   "source": [
    "x=data_sqrt[['Sorting Time']]\n",
    "x.head()"
   ]
  },
  {
   "cell_type": "code",
   "execution_count": 387,
   "id": "707d6c98",
   "metadata": {},
   "outputs": [
    {
     "data": {
      "text/plain": [
       "0    4.582576\n",
       "1    3.674235\n",
       "2    4.444097\n",
       "3    4.898979\n",
       "4    5.385165\n",
       "Name: Delivery Time, dtype: float64"
      ]
     },
     "execution_count": 387,
     "metadata": {},
     "output_type": "execute_result"
    }
   ],
   "source": [
    "y=data_sqrt['Delivery Time']\n",
    "y.head()"
   ]
  },
  {
   "cell_type": "markdown",
   "id": "a59c0adf",
   "metadata": {},
   "source": [
    "## Fit the model"
   ]
  },
  {
   "cell_type": "code",
   "execution_count": 388,
   "id": "7954289c",
   "metadata": {},
   "outputs": [
    {
     "data": {
      "text/plain": [
       "LinearRegression()"
      ]
     },
     "execution_count": 388,
     "metadata": {},
     "output_type": "execute_result"
    }
   ],
   "source": [
    "reg=linear_model.LinearRegression()\n",
    "reg.fit(x,y)"
   ]
  },
  {
   "cell_type": "markdown",
   "id": "b8ecc154",
   "metadata": {},
   "source": [
    "### predict the model"
   ]
  },
  {
   "cell_type": "code",
   "execution_count": 389,
   "id": "7b1c033b",
   "metadata": {},
   "outputs": [
    {
     "data": {
      "text/plain": [
       "array([4.78276673, 3.61791244, 4.06839864, 4.62012932, 4.78276673,\n",
       "       4.06839864, 4.2650953 , 3.34936923, 4.78276673, 4.62012932,\n",
       "       4.44817609, 3.61791244, 4.2650953 , 3.34936923, 3.34936923,\n",
       "       3.61791244, 4.06839864, 4.2650953 , 3.03082738, 4.2650953 ,\n",
       "       3.85450375])"
      ]
     },
     "execution_count": 389,
     "metadata": {},
     "output_type": "execute_result"
    }
   ],
   "source": [
    "y_pred=reg.predict(x)\n",
    "y_pred"
   ]
  },
  {
   "cell_type": "markdown",
   "id": "8aa40b42",
   "metadata": {},
   "source": [
    "# for Model Performance"
   ]
  },
  {
   "cell_type": "code",
   "execution_count": null,
   "id": "03f8c20c",
   "metadata": {},
   "outputs": [],
   "source": [
    "from sklearn.metrics import mean_squared_error,r2_score"
   ]
  },
  {
   "cell_type": "code",
   "execution_count": null,
   "id": "39609487",
   "metadata": {},
   "outputs": [],
   "source": [
    "\n",
    "MSE=mean_squared_error(y,y_pred)\n",
    "MSE"
   ]
  },
  {
   "cell_type": "markdown",
   "id": "7d5cc16d",
   "metadata": {},
   "source": [
    "### Calculating the root mean Square error"
   ]
  },
  {
   "cell_type": "code",
   "execution_count": null,
   "id": "48140880",
   "metadata": {},
   "outputs": [],
   "source": [
    "Root_mse=np.sqrt(MSE)\n",
    "Root_mse"
   ]
  },
  {
   "cell_type": "markdown",
   "id": "03bd669e",
   "metadata": {},
   "source": [
    "### Calculating the R2 score"
   ]
  },
  {
   "cell_type": "code",
   "execution_count": 390,
   "id": "c8501e50",
   "metadata": {},
   "outputs": [
    {
     "data": {
      "text/plain": [
       "0.7292011987544664"
      ]
     },
     "execution_count": 390,
     "metadata": {},
     "output_type": "execute_result"
    }
   ],
   "source": [
    "r2_score(y,y_pred)"
   ]
  },
  {
   "cell_type": "markdown",
   "id": "6948609f",
   "metadata": {},
   "source": [
    "# Forth Model (cuberoot transformation)"
   ]
  },
  {
   "cell_type": "code",
   "execution_count": 391,
   "id": "4b22de4f",
   "metadata": {},
   "outputs": [
    {
     "data": {
      "image/png": "[encoded data removed]",
      "text/plain": [
       "<Figure size 640x480 with 2 Axes>"
      ]
     },
     "metadata": {},
     "output_type": "display_data"
    }
   ],
   "source": [
    "data_cbrt=np.cbrt(data)\n",
    "\n",
    "#define grid of plots\n",
    "fig,axs=plt.subplots(nrows=1,ncols=2)\n",
    "\n",
    "#creat histogram\n",
    "axs[0].hist(data,edgecolor='black')\n",
    "axs[1].hist(data_cbrt,edgecolor='black')\n",
    "\n",
    "#add title\n",
    "axs[0].set_title('original data')\n",
    "axs[1].set_title('cuberoot transformation data')\n",
    "plt.show()"
   ]
  },
  {
   "cell_type": "markdown",
   "id": "4a6a9859",
   "metadata": {},
   "source": [
    "### separating the variables"
   ]
  },
  {
   "cell_type": "code",
   "execution_count": 392,
   "id": "a8a6f7ea",
   "metadata": {},
   "outputs": [
    {
     "data": {
      "text/html": [
       "<div>\n",
       "<style scoped>\n",
       "    .dataframe tbody tr th:only-of-type {\n",
       "        vertical-align: middle;\n",
       "    }\n",
       "\n",
       "    .dataframe tbody tr th {\n",
       "        vertical-align: top;\n",
       "    }\n",
       "\n",
       "    .dataframe thead th {\n",
       "        text-align: right;\n",
       "    }\n",
       "</style>\n",
       "<table border=\"1\" class=\"dataframe\">\n",
       "  <thead>\n",
       "    <tr style=\"text-align: right;\">\n",
       "      <th></th>\n",
       "      <th>Sorting Time</th>\n",
       "    </tr>\n",
       "  </thead>\n",
       "  <tbody>\n",
       "    <tr>\n",
       "      <th>0</th>\n",
       "      <td>2.154435</td>\n",
       "    </tr>\n",
       "    <tr>\n",
       "      <th>1</th>\n",
       "      <td>1.587401</td>\n",
       "    </tr>\n",
       "    <tr>\n",
       "      <th>2</th>\n",
       "      <td>1.817121</td>\n",
       "    </tr>\n",
       "    <tr>\n",
       "      <th>3</th>\n",
       "      <td>2.080084</td>\n",
       "    </tr>\n",
       "    <tr>\n",
       "      <th>4</th>\n",
       "      <td>2.154435</td>\n",
       "    </tr>\n",
       "  </tbody>\n",
       "</table>\n",
       "</div>"
      ],
      "text/plain": [
       "   Sorting Time\n",
       "0      2.154435\n",
       "1      1.587401\n",
       "2      1.817121\n",
       "3      2.080084\n",
       "4      2.154435"
      ]
     },
     "execution_count": 392,
     "metadata": {},
     "output_type": "execute_result"
    }
   ],
   "source": [
    "x=data_cbrt[['Sorting Time']]\n",
    "x.head()"
   ]
  },
  {
   "cell_type": "code",
   "execution_count": 393,
   "id": "6ef8fef1",
   "metadata": {},
   "outputs": [
    {
     "data": {
      "text/plain": [
       "0    4.582576\n",
       "1    3.674235\n",
       "2    4.444097\n",
       "3    4.898979\n",
       "4    5.385165\n",
       "Name: Delivery Time, dtype: float64"
      ]
     },
     "execution_count": 393,
     "metadata": {},
     "output_type": "execute_result"
    }
   ],
   "source": [
    "y=data_sqrt['Delivery Time']\n",
    "y.head()"
   ]
  },
  {
   "cell_type": "markdown",
   "id": "8f7bde6b",
   "metadata": {},
   "source": [
    "## Fit the model"
   ]
  },
  {
   "cell_type": "code",
   "execution_count": 394,
   "id": "bc99643b",
   "metadata": {},
   "outputs": [
    {
     "data": {
      "text/plain": [
       "LinearRegression()"
      ]
     },
     "execution_count": 394,
     "metadata": {},
     "output_type": "execute_result"
    }
   ],
   "source": [
    "reg=linear_model.LinearRegression()\n",
    "reg.fit(x,y)"
   ]
  },
  {
   "cell_type": "markdown",
   "id": "b12e4b0b",
   "metadata": {},
   "source": [
    "### predict the model"
   ]
  },
  {
   "cell_type": "code",
   "execution_count": 395,
   "id": "c5420d91",
   "metadata": {},
   "outputs": [
    {
     "data": {
      "text/plain": [
       "array([4.76085406, 3.62883935, 4.08744689, 4.61242146, 4.76085406,\n",
       "       4.08744689, 4.27872125, 3.33906181, 4.76085406, 4.61242146,\n",
       "       4.45254371, 3.62883935, 4.27872125, 3.33906181, 3.33906181,\n",
       "       3.62883935, 4.08744689, 4.27872125, 2.97506477, 4.27872125,\n",
       "       3.87354544])"
      ]
     },
     "execution_count": 395,
     "metadata": {},
     "output_type": "execute_result"
    }
   ],
   "source": [
    "y_pred=reg.predict(x)\n",
    "y_pred"
   ]
  },
  {
   "cell_type": "markdown",
   "id": "809b7417",
   "metadata": {},
   "source": [
    "# For Model Performance"
   ]
  },
  {
   "cell_type": "code",
   "execution_count": null,
   "id": "20183d3c",
   "metadata": {},
   "outputs": [],
   "source": [
    "from sklearn.metrics import mean_squared_error,r2_score"
   ]
  },
  {
   "cell_type": "markdown",
   "id": "234eb4e6",
   "metadata": {},
   "source": [
    "### Calculating the root mean sqaure error"
   ]
  },
  {
   "cell_type": "code",
   "execution_count": 396,
   "id": "1bf29c75",
   "metadata": {},
   "outputs": [
    {
     "data": {
      "text/plain": [
       "0.09897702288605863"
      ]
     },
     "execution_count": 396,
     "metadata": {},
     "output_type": "execute_result"
    }
   ],
   "source": [
    "\n",
    "MSE=mean_squared_error(y,y_pred)\n",
    "MSE"
   ]
  },
  {
   "cell_type": "code",
   "execution_count": 397,
   "id": "40c88eb5",
   "metadata": {},
   "outputs": [
    {
     "data": {
      "text/plain": [
       "0.31460613930128356"
      ]
     },
     "execution_count": 397,
     "metadata": {},
     "output_type": "execute_result"
    }
   ],
   "source": [
    "Root_mse=np.sqrt(MSE)\n",
    "Root_mse"
   ]
  },
  {
   "cell_type": "markdown",
   "id": "fa9de3ca",
   "metadata": {},
   "source": [
    "### calculating the r2 Score"
   ]
  },
  {
   "cell_type": "code",
   "execution_count": 398,
   "id": "bc483132",
   "metadata": {},
   "outputs": [
    {
     "data": {
      "text/plain": [
       "0.7348008287010694"
      ]
     },
     "execution_count": 398,
     "metadata": {},
     "output_type": "execute_result"
    }
   ],
   "source": [
    "r2_score(data_sqrt['Delivery Time'],y_pred)"
   ]
  },
  {
   "cell_type": "markdown",
   "id": "a5651d15",
   "metadata": {},
   "source": [
    "# fifth model (min max transformation)"
   ]
  },
  {
   "cell_type": "code",
   "execution_count": 399,
   "id": "59912705",
   "metadata": {},
   "outputs": [],
   "source": [
    "# Normalization function # use sklearn library norm\n",
    "def norm_func(i):\n",
    "    x = (i-i.min())/(i.max()-i.min())\n",
    "    return x"
   ]
  },
  {
   "cell_type": "code",
   "execution_count": 400,
   "id": "a9d4c8ab",
   "metadata": {},
   "outputs": [
    {
     "data": {
      "text/html": [
       "<div>\n",
       "<style scoped>\n",
       "    .dataframe tbody tr th:only-of-type {\n",
       "        vertical-align: middle;\n",
       "    }\n",
       "\n",
       "    .dataframe tbody tr th {\n",
       "        vertical-align: top;\n",
       "    }\n",
       "\n",
       "    .dataframe thead th {\n",
       "        text-align: right;\n",
       "    }\n",
       "</style>\n",
       "<table border=\"1\" class=\"dataframe\">\n",
       "  <thead>\n",
       "    <tr style=\"text-align: right;\">\n",
       "      <th></th>\n",
       "      <th>Delivery Time</th>\n",
       "      <th>Sorting Time</th>\n",
       "    </tr>\n",
       "  </thead>\n",
       "  <tbody>\n",
       "    <tr>\n",
       "      <th>0</th>\n",
       "      <td>0.619048</td>\n",
       "      <td>1.000</td>\n",
       "    </tr>\n",
       "    <tr>\n",
       "      <th>1</th>\n",
       "      <td>0.261905</td>\n",
       "      <td>0.250</td>\n",
       "    </tr>\n",
       "    <tr>\n",
       "      <th>2</th>\n",
       "      <td>0.559524</td>\n",
       "      <td>0.500</td>\n",
       "    </tr>\n",
       "    <tr>\n",
       "      <th>3</th>\n",
       "      <td>0.761905</td>\n",
       "      <td>0.875</td>\n",
       "    </tr>\n",
       "    <tr>\n",
       "      <th>4</th>\n",
       "      <td>1.000000</td>\n",
       "      <td>1.000</td>\n",
       "    </tr>\n",
       "  </tbody>\n",
       "</table>\n",
       "</div>"
      ],
      "text/plain": [
       "   Delivery Time  Sorting Time\n",
       "0       0.619048         1.000\n",
       "1       0.261905         0.250\n",
       "2       0.559524         0.500\n",
       "3       0.761905         0.875\n",
       "4       1.000000         1.000"
      ]
     },
     "execution_count": 400,
     "metadata": {},
     "output_type": "execute_result"
    }
   ],
   "source": [
    "# Normalized data frame \n",
    "data_norm = norm_func(data.iloc[:])\n",
    "data_norm.head()"
   ]
  },
  {
   "cell_type": "markdown",
   "id": "addf3d1e",
   "metadata": {},
   "source": [
    "### separating the variables"
   ]
  },
  {
   "cell_type": "code",
   "execution_count": 401,
   "id": "46d3c62c",
   "metadata": {},
   "outputs": [
    {
     "data": {
      "text/html": [
       "<div>\n",
       "<style scoped>\n",
       "    .dataframe tbody tr th:only-of-type {\n",
       "        vertical-align: middle;\n",
       "    }\n",
       "\n",
       "    .dataframe tbody tr th {\n",
       "        vertical-align: top;\n",
       "    }\n",
       "\n",
       "    .dataframe thead th {\n",
       "        text-align: right;\n",
       "    }\n",
       "</style>\n",
       "<table border=\"1\" class=\"dataframe\">\n",
       "  <thead>\n",
       "    <tr style=\"text-align: right;\">\n",
       "      <th></th>\n",
       "      <th>Sorting Time</th>\n",
       "    </tr>\n",
       "  </thead>\n",
       "  <tbody>\n",
       "    <tr>\n",
       "      <th>0</th>\n",
       "      <td>1.000</td>\n",
       "    </tr>\n",
       "    <tr>\n",
       "      <th>1</th>\n",
       "      <td>0.250</td>\n",
       "    </tr>\n",
       "    <tr>\n",
       "      <th>2</th>\n",
       "      <td>0.500</td>\n",
       "    </tr>\n",
       "    <tr>\n",
       "      <th>3</th>\n",
       "      <td>0.875</td>\n",
       "    </tr>\n",
       "    <tr>\n",
       "      <th>4</th>\n",
       "      <td>1.000</td>\n",
       "    </tr>\n",
       "  </tbody>\n",
       "</table>\n",
       "</div>"
      ],
      "text/plain": [
       "   Sorting Time\n",
       "0         1.000\n",
       "1         0.250\n",
       "2         0.500\n",
       "3         0.875\n",
       "4         1.000"
      ]
     },
     "execution_count": 401,
     "metadata": {},
     "output_type": "execute_result"
    }
   ],
   "source": [
    "x=data_norm[['Sorting Time']]\n",
    "x.head()"
   ]
  },
  {
   "cell_type": "code",
   "execution_count": 403,
   "id": "c82208cf",
   "metadata": {},
   "outputs": [
    {
     "data": {
      "text/html": [
       "<div>\n",
       "<style scoped>\n",
       "    .dataframe tbody tr th:only-of-type {\n",
       "        vertical-align: middle;\n",
       "    }\n",
       "\n",
       "    .dataframe tbody tr th {\n",
       "        vertical-align: top;\n",
       "    }\n",
       "\n",
       "    .dataframe thead th {\n",
       "        text-align: right;\n",
       "    }\n",
       "</style>\n",
       "<table border=\"1\" class=\"dataframe\">\n",
       "  <thead>\n",
       "    <tr style=\"text-align: right;\">\n",
       "      <th></th>\n",
       "      <th>Delivery Time</th>\n",
       "    </tr>\n",
       "  </thead>\n",
       "  <tbody>\n",
       "    <tr>\n",
       "      <th>0</th>\n",
       "      <td>0.619048</td>\n",
       "    </tr>\n",
       "    <tr>\n",
       "      <th>1</th>\n",
       "      <td>0.261905</td>\n",
       "    </tr>\n",
       "    <tr>\n",
       "      <th>2</th>\n",
       "      <td>0.559524</td>\n",
       "    </tr>\n",
       "    <tr>\n",
       "      <th>3</th>\n",
       "      <td>0.761905</td>\n",
       "    </tr>\n",
       "    <tr>\n",
       "      <th>4</th>\n",
       "      <td>1.000000</td>\n",
       "    </tr>\n",
       "  </tbody>\n",
       "</table>\n",
       "</div>"
      ],
      "text/plain": [
       "   Delivery Time\n",
       "0       0.619048\n",
       "1       0.261905\n",
       "2       0.559524\n",
       "3       0.761905\n",
       "4       1.000000"
      ]
     },
     "execution_count": 403,
     "metadata": {},
     "output_type": "execute_result"
    }
   ],
   "source": [
    "y=data_norm[['Delivery Time']]\n",
    "y.head()"
   ]
  },
  {
   "cell_type": "markdown",
   "id": "d0956dbf",
   "metadata": {},
   "source": [
    "### Fit the model"
   ]
  },
  {
   "cell_type": "code",
   "execution_count": 404,
   "id": "e3bf5f65",
   "metadata": {
    "scrolled": true
   },
   "outputs": [
    {
     "data": {
      "text/plain": [
       "LinearRegression()"
      ]
     },
     "execution_count": 404,
     "metadata": {},
     "output_type": "execute_result"
    }
   ],
   "source": [
    "reg=linear_model.LinearRegression()\n",
    "reg.fit(x,y)"
   ]
  },
  {
   "cell_type": "markdown",
   "id": "b3e28d89",
   "metadata": {},
   "source": [
    "### Predict the model"
   ]
  },
  {
   "cell_type": "code",
   "execution_count": 405,
   "id": "bdc11152",
   "metadata": {},
   "outputs": [
    {
     "data": {
      "text/plain": [
       "array([[0.71775871, 0.24661017, 0.40365968, 0.63923395, 0.71775871,\n",
       "        0.40365968, 0.48218444, 0.16808541, 0.71775871, 0.63923395,\n",
       "        0.5607092 , 0.24661017, 0.48218444, 0.16808541, 0.16808541,\n",
       "        0.24661017, 0.40365968, 0.48218444, 0.08956066, 0.48218444,\n",
       "        0.32513493]])"
      ]
     },
     "execution_count": 405,
     "metadata": {},
     "output_type": "execute_result"
    }
   ],
   "source": [
    "y_pred=reg.predict(x)\n",
    "y_pred.reshape(1,-1)"
   ]
  },
  {
   "cell_type": "markdown",
   "id": "3e70a640",
   "metadata": {},
   "source": [
    "# Model Performance"
   ]
  },
  {
   "cell_type": "code",
   "execution_count": null,
   "id": "5d83f3ee",
   "metadata": {},
   "outputs": [],
   "source": [
    "from sklearn.metrics import mean_squared_error,r2_score"
   ]
  },
  {
   "cell_type": "markdown",
   "id": "e79b6665",
   "metadata": {},
   "source": [
    "### Calculating the root mean square error"
   ]
  },
  {
   "cell_type": "code",
   "execution_count": 406,
   "id": "9ee9490c",
   "metadata": {},
   "outputs": [
    {
     "data": {
      "text/plain": [
       "0.017671908273433252"
      ]
     },
     "execution_count": 406,
     "metadata": {},
     "output_type": "execute_result"
    }
   ],
   "source": [
    "\n",
    "MSE=mean_squared_error(y,y_pred)\n",
    "MSE"
   ]
  },
  {
   "cell_type": "code",
   "execution_count": 407,
   "id": "88043211",
   "metadata": {},
   "outputs": [
    {
     "data": {
      "text/plain": [
       "0.1329357298600841"
      ]
     },
     "execution_count": 407,
     "metadata": {},
     "output_type": "execute_result"
    }
   ],
   "source": [
    "Root_mse=np.sqrt(MSE)\n",
    "Root_mse"
   ]
  },
  {
   "cell_type": "markdown",
   "id": "f62a2b3a",
   "metadata": {},
   "source": [
    "### calculating the R2 score"
   ]
  },
  {
   "cell_type": "code",
   "execution_count": 408,
   "id": "f60ffd84",
   "metadata": {},
   "outputs": [
    {
     "data": {
      "text/plain": [
       "0.6822714748417231"
      ]
     },
     "execution_count": 408,
     "metadata": {},
     "output_type": "execute_result"
    }
   ],
   "source": [
    "r2_score(y,y_pred)"
   ]
  },
  {
   "cell_type": "markdown",
   "id": "5603484e",
   "metadata": {},
   "source": [
    "# Sixth Model (exponential Transformation)"
   ]
  },
  {
   "cell_type": "code",
   "execution_count": 409,
   "id": "e08f0f2b",
   "metadata": {},
   "outputs": [
    {
     "data": {
      "image/png": "[encoded data removed]",
      "text/plain": [
       "<Figure size 640x480 with 2 Axes>"
      ]
     },
     "metadata": {},
     "output_type": "display_data"
    }
   ],
   "source": [
    "data_exp=np.exp(data)\n",
    "\n",
    "#define grid of plots\n",
    "fig,axs=plt.subplots(nrows=1,ncols=2)\n",
    "\n",
    "#creat histogram\n",
    "axs[0].hist(data,edgecolor='black')\n",
    "axs[1].hist(data_exp,edgecolor='black')\n",
    "\n",
    "#add title\n",
    "axs[0].set_title('original data')\n",
    "axs[1].set_title('exponential transformation data')\n",
    "plt.show()"
   ]
  },
  {
   "cell_type": "markdown",
   "id": "613b2b57",
   "metadata": {},
   "source": [
    "### separating the variables"
   ]
  },
  {
   "cell_type": "code",
   "execution_count": 410,
   "id": "a6064a90",
   "metadata": {},
   "outputs": [
    {
     "data": {
      "text/html": [
       "<div>\n",
       "<style scoped>\n",
       "    .dataframe tbody tr th:only-of-type {\n",
       "        vertical-align: middle;\n",
       "    }\n",
       "\n",
       "    .dataframe tbody tr th {\n",
       "        vertical-align: top;\n",
       "    }\n",
       "\n",
       "    .dataframe thead th {\n",
       "        text-align: right;\n",
       "    }\n",
       "</style>\n",
       "<table border=\"1\" class=\"dataframe\">\n",
       "  <thead>\n",
       "    <tr style=\"text-align: right;\">\n",
       "      <th></th>\n",
       "      <th>Sorting Time</th>\n",
       "    </tr>\n",
       "  </thead>\n",
       "  <tbody>\n",
       "    <tr>\n",
       "      <th>0</th>\n",
       "      <td>22026.465795</td>\n",
       "    </tr>\n",
       "    <tr>\n",
       "      <th>1</th>\n",
       "      <td>54.598150</td>\n",
       "    </tr>\n",
       "    <tr>\n",
       "      <th>2</th>\n",
       "      <td>403.428793</td>\n",
       "    </tr>\n",
       "    <tr>\n",
       "      <th>3</th>\n",
       "      <td>8103.083928</td>\n",
       "    </tr>\n",
       "    <tr>\n",
       "      <th>4</th>\n",
       "      <td>22026.465795</td>\n",
       "    </tr>\n",
       "  </tbody>\n",
       "</table>\n",
       "</div>"
      ],
      "text/plain": [
       "   Sorting Time\n",
       "0  22026.465795\n",
       "1     54.598150\n",
       "2    403.428793\n",
       "3   8103.083928\n",
       "4  22026.465795"
      ]
     },
     "execution_count": 410,
     "metadata": {},
     "output_type": "execute_result"
    }
   ],
   "source": [
    "x=data_exp[['Sorting Time']]\n",
    "x.head()"
   ]
  },
  {
   "cell_type": "code",
   "execution_count": 411,
   "id": "6bd12ed2",
   "metadata": {},
   "outputs": [
    {
     "data": {
      "text/plain": [
       "0    1.318816e+09\n",
       "1    7.294164e+05\n",
       "2    3.778470e+08\n",
       "3    2.648912e+10\n",
       "4    3.931334e+12\n",
       "Name: Delivery Time, dtype: float64"
      ]
     },
     "execution_count": 411,
     "metadata": {},
     "output_type": "execute_result"
    }
   ],
   "source": [
    "y=data_exp['Delivery Time']\n",
    "y.head()"
   ]
  },
  {
   "cell_type": "markdown",
   "id": "a405d974",
   "metadata": {},
   "source": [
    "## Fit the model"
   ]
  },
  {
   "cell_type": "code",
   "execution_count": 412,
   "id": "68d887e4",
   "metadata": {},
   "outputs": [
    {
     "data": {
      "text/plain": [
       "LinearRegression()"
      ]
     },
     "execution_count": 412,
     "metadata": {},
     "output_type": "execute_result"
    }
   ],
   "source": [
    "reg=linear_model.LinearRegression()\n",
    "reg.fit(x,y)"
   ]
  },
  {
   "cell_type": "markdown",
   "id": "f839ece6",
   "metadata": {},
   "source": [
    "### Predict the model"
   ]
  },
  {
   "cell_type": "code",
   "execution_count": 413,
   "id": "cf7f85ef",
   "metadata": {},
   "outputs": [
    {
     "data": {
      "text/plain": [
       "array([[ 1.21067657e+12, -5.92798677e+10, -3.91177346e+10,\n",
       "         4.05916194e+11,  1.21067657e+12, -3.91177346e+10,\n",
       "         9.48925028e+08, -6.12746693e+10,  1.21067657e+12,\n",
       "         4.05916194e+11,  1.09861398e+11, -5.92798677e+10,\n",
       "         9.48925028e+08, -6.12746693e+10, -6.12746693e+10,\n",
       "        -5.92798677e+10, -3.91177346e+10,  9.48925028e+08,\n",
       "        -6.20085157e+10,  9.48925028e+08, -5.38574350e+10]])"
      ]
     },
     "execution_count": 413,
     "metadata": {},
     "output_type": "execute_result"
    }
   ],
   "source": [
    "y_pred=reg.predict(x)\n",
    "y_pred.reshape(1,-1)\n",
    "\n"
   ]
  },
  {
   "cell_type": "markdown",
   "id": "4bd13425",
   "metadata": {},
   "source": [
    "# Model Performance"
   ]
  },
  {
   "cell_type": "code",
   "execution_count": null,
   "id": "0c5af5e3",
   "metadata": {},
   "outputs": [],
   "source": [
    "from sklearn.metrics import mean_squared_error,r2_score"
   ]
  },
  {
   "cell_type": "markdown",
   "id": "4d78f2d9",
   "metadata": {},
   "source": [
    "### Calculate the root mean square error"
   ]
  },
  {
   "cell_type": "code",
   "execution_count": 414,
   "id": "bcf962cc",
   "metadata": {},
   "outputs": [
    {
     "data": {
      "text/plain": [
       "5.087682501176993e+23"
      ]
     },
     "execution_count": 414,
     "metadata": {},
     "output_type": "execute_result"
    }
   ],
   "source": [
    "\n",
    "MSE=mean_squared_error(y,y_pred)\n",
    "MSE"
   ]
  },
  {
   "cell_type": "code",
   "execution_count": 415,
   "id": "59908a0f",
   "metadata": {},
   "outputs": [
    {
     "data": {
      "text/plain": [
       "713279924095.512"
      ]
     },
     "execution_count": 415,
     "metadata": {},
     "output_type": "execute_result"
    }
   ],
   "source": [
    "Root_mse=np.sqrt(MSE)\n",
    "Root_mse"
   ]
  },
  {
   "cell_type": "markdown",
   "id": "9f31786a",
   "metadata": {},
   "source": [
    "### calculating the accuracy "
   ]
  },
  {
   "cell_type": "code",
   "execution_count": 262,
   "id": "05b7a791",
   "metadata": {},
   "outputs": [
    {
     "data": {
      "text/plain": [
       "0.6822714748417231"
      ]
     },
     "execution_count": 262,
     "metadata": {},
     "output_type": "execute_result"
    }
   ],
   "source": [
    "r2_score(y,y_pred)"
   ]
  },
  {
   "cell_type": "markdown",
   "id": "38199860",
   "metadata": {},
   "source": [
    "### CONCLUSION  2nd model is best because it give high r2 score value"
   ]
  },
  {
   "cell_type": "code",
   "execution_count": null,
   "id": "dafc4204",
   "metadata": {},
   "outputs": [],
   "source": []
  }
 ],
 "metadata": {
  "kernelspec": {
   "display_name": "Python 3 (ipykernel)",
   "language": "python",
   "name": "python3"
  },
  "language_info": {
   "codemirror_mode": {
    "name": "ipython",
    "version": 3
   },
   "file_extension": ".py",
   "mimetype": "text/x-python",
   "name": "python",
   "nbconvert_exporter": "python",
   "pygments_lexer": "ipython3",
   "version": "3.9.13"
  }
 },
 "nbformat": 4,
 "nbformat_minor": 5
}
